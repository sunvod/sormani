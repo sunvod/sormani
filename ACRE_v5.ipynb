{
  "nbformat": 4,
  "nbformat_minor": 0,
  "metadata": {
    "kernelspec": {
      "display_name": "Python 3",
      "language": "python",
      "name": "python3"
    },
    "language_info": {
      "codemirror_mode": {
        "name": "ipython",
        "version": 3
      },
      "file_extension": ".py",
      "mimetype": "text/x-python",
      "name": "python",
      "nbconvert_exporter": "python",
      "pygments_lexer": "ipython3",
      "version": "3.7.7"
    },
    "colab": {
      "provenance": [],
      "toc_visible": true,
      "include_colab_link": true
    },
    "accelerator": "GPU"
  },
  "cells": [
    {
      "cell_type": "markdown",
      "metadata": {
        "id": "view-in-github",
        "colab_type": "text"
      },
      "source": [
        "<a href=\"https://colab.research.google.com/github/sunvod/sormani/blob/master/ACRE_v5.ipynb\" target=\"_parent\"><img src=\"https://colab.research.google.com/assets/colab-badge.svg\" alt=\"Open In Colab\"/></a>"
      ]
    },
    {
      "cell_type": "code",
      "metadata": {
        "id": "I5FnwOggnFIl"
      },
      "source": [
        "from IPython.core.interactiveshell import InteractiveShell\n",
        "InteractiveShell.ast_node_interactivity = \"all\""
      ],
      "execution_count": null,
      "outputs": []
    },
    {
      "cell_type": "code",
      "metadata": {
        "id": "tOBDSA9BnFIx"
      },
      "source": [
        "import os\n",
        "\n",
        "import tensorflow as tf\n",
        "import numpy as np\n",
        "\n",
        "# Set the seed for random operations. \n",
        "# This let our experiments to be reproducible. \n",
        "SEED = 1234\n",
        "tf.random.set_seed(SEED)  \n",
        "\n",
        "VALIDATION = 0.15\n",
        "\n",
        "cwd = os.getcwd()\n",
        "BASE_DIR = os.path.join(cwd, 'drive/MyDrive/Development_Dataset')\n",
        "\n",
        "IMG_SET = 'Bipbip'\n",
        "VEG_SET = 'Haricot'"
      ],
      "execution_count": null,
      "outputs": []
    },
    {
      "cell_type": "code",
      "metadata": {
        "id": "Z8bhsWQnnU-i",
        "colab": {
          "base_uri": "https://localhost:8080/"
        },
        "outputId": "97405835-b9a3-47f9-f299-73755604ef98"
      },
      "source": [
        "from google.colab import drive\n",
        "drive.mount('/content/drive')"
      ],
      "execution_count": null,
      "outputs": [
        {
          "output_type": "stream",
          "text": [
            "Drive already mounted at /content/drive; to attempt to forcibly remount, call drive.mount(\"/content/drive\", force_remount=True).\n"
          ],
          "name": "stdout"
        }
      ]
    },
    {
      "cell_type": "code",
      "metadata": {
        "id": "Uw-loJ73n0eS"
      },
      "source": [
        "# !unzip /content/drive/My\\ Drive/SegmentationDataset.zip"
      ],
      "execution_count": null,
      "outputs": []
    },
    {
      "cell_type": "markdown",
      "metadata": {
        "id": "mH3lzlVqnFI2"
      },
      "source": [
        "# Example: Image Segmentation\n",
        "## Build segmentation"
      ]
    },
    {
      "cell_type": "code",
      "metadata": {
        "id": "4N88wG50nFI3"
      },
      "source": [
        "# ImageDataGenerator\n",
        "# ------------------\n",
        "\n",
        "from tensorflow.keras.preprocessing.image import ImageDataGenerator\n",
        "\n",
        "apply_data_augmentation = False\n",
        "\n",
        "# Create training ImageDataGenerator object\n",
        "# We need two different generators for images and corresponding masks\n",
        "if apply_data_augmentation:\n",
        "    train_img_data_gen = ImageDataGenerator(rotation_range=30,\n",
        "                                            width_shift_range=10,\n",
        "                                            height_shift_range=10,\n",
        "                                            zoom_range=0.3,\n",
        "                                            horizontal_flip=True,\n",
        "                                            vertical_flip=True,\n",
        "                                            fill_mode='reflect',\n",
        "                                            validation_split=VALIDATION,\n",
        "                                            rescale=1./255)\n",
        "    train_mask_data_gen = ImageDataGenerator(rotation_range=30,\n",
        "                                             width_shift_range=10,\n",
        "                                             height_shift_range=10,\n",
        "                                             zoom_range=0.3,\n",
        "                                             horizontal_flip=True,\n",
        "                                             vertical_flip=True,\n",
        "                                             validation_split=VALIDATION,\n",
        "                                             fill_mode='reflect')\n",
        "else:\n",
        "    train_img_data_gen = ImageDataGenerator(validation_split=VALIDATION,\n",
        "                                            rescale=1./255)\n",
        "    train_mask_data_gen = ImageDataGenerator(validation_split=VALIDATION)\n",
        "\n",
        "# Create validation and test ImageDataGenerator objects\n",
        "valid_img_data_gen = ImageDataGenerator(validation_split=VALIDATION,\n",
        "                                        rescale=1./255)\n",
        "valid_mask_data_gen = ImageDataGenerator(validation_split=VALIDATION)\n",
        "test_img_data_gen = ImageDataGenerator(validation_split=VALIDATION,\n",
        "                                       rescale=1./255)\n",
        "test_mask_data_gen = ImageDataGenerator(validation_split=VALIDATION)"
      ],
      "execution_count": null,
      "outputs": []
    },
    {
      "cell_type": "code",
      "metadata": {
        "id": "tMnyca-PnFI8",
        "colab": {
          "base_uri": "https://localhost:8080/"
        },
        "outputId": "5ec79487-916e-4ef8-b216-d586d13526cc"
      },
      "source": [
        "# Create generators to read images from dataset directory\n",
        "# -------------------------------------------------------\n",
        "\n",
        "# Batch size\n",
        "bs = 16\n",
        "\n",
        "# img shape\n",
        "img_h = 256\n",
        "img_w = 256\n",
        "num_classes=3\n",
        "\n",
        "# Training\n",
        "# Two different generators for images and masks\n",
        "# ATTENTION: here the seed is important!! We have to give the same SEED to both the generator\n",
        "# to apply the same transformations/shuffling to images and corresponding masks\n",
        "training_dir = os.path.join(BASE_DIR, 'Training', IMG_SET, VEG_SET)\n",
        "train_img_gen = train_img_data_gen.flow_from_directory(os.path.join(training_dir, 'Images'),\n",
        "                                                       target_size=(img_h, img_w),\n",
        "                                                       batch_size=bs,\n",
        "                                                       classes={''},\n",
        "                                                       class_mode=None, \n",
        "                                                       shuffle=True,\n",
        "                                                       interpolation='bilinear',\n",
        "                                                       subset=\"training\",\n",
        "                                                       seed=SEED)  \n",
        "train_mask_gen = train_mask_data_gen.flow_from_directory(os.path.join(training_dir, 'Masks'),\n",
        "                                                         target_size=(img_h, img_w),\n",
        "                                                         batch_size=bs,\n",
        "                                                         classes={''},\n",
        "                                                         class_mode=None,\n",
        "                                                         shuffle=True,\n",
        "                                                         interpolation='bilinear',\n",
        "                                                         subset=\"training\",\n",
        "                                                         seed=SEED)\n",
        "train_gen = zip(train_img_gen, train_mask_gen)\n",
        "\n",
        "# Validation\n",
        "validation_dir = training_dir\n",
        "valid_img_gen = valid_img_data_gen.flow_from_directory(os.path.join(validation_dir, 'Images'),\n",
        "                                                       target_size=(img_h, img_w),\n",
        "                                                       batch_size=bs, \n",
        "                                                       classes={''},\n",
        "                                                       class_mode=None, \n",
        "                                                       shuffle=False,\n",
        "                                                       interpolation='bilinear',\n",
        "                                                       subset=\"validation\",\n",
        "                                                       seed=SEED)\n",
        "valid_mask_gen = valid_mask_data_gen.flow_from_directory(os.path.join(validation_dir, 'Masks'),\n",
        "                                                         target_size=(img_h, img_w),\n",
        "                                                         batch_size=bs, \n",
        "                                                         classes={''},\n",
        "                                                         class_mode=None,\n",
        "                                                         shuffle=False,\n",
        "                                                         interpolation='bilinear',\n",
        "                                                         subset=\"validation\",\n",
        "                                                         seed=SEED)\n",
        "valid_gen = zip(valid_img_gen, valid_mask_gen)"
      ],
      "execution_count": null,
      "outputs": [
        {
          "output_type": "stream",
          "text": [
            "Found 77 images belonging to 1 classes.\n",
            "Found 77 images belonging to 1 classes.\n",
            "Found 13 images belonging to 1 classes.\n",
            "Found 13 images belonging to 1 classes.\n"
          ],
          "name": "stdout"
        }
      ]
    },
    {
      "cell_type": "code",
      "metadata": {
        "id": "FAuQERFrnFJA"
      },
      "source": [
        "# Create Dataset objects\n",
        "# ----------------------\n",
        "\n",
        "# Training\n",
        "# --------\n",
        "train_dataset = tf.data.Dataset.from_generator(lambda: train_gen,\n",
        "                                               output_types=(tf.float32, tf.float32),\n",
        "                                               output_shapes=([None, img_h, img_w, 3], [None, img_h, img_w, 3]))\n",
        "\n",
        "# This is needed to convert targets from H x W x 3 (RGB) to label mask H x W x 1.\n",
        "# Thus, 255 values become True (with y_ > 0), i.e., RGB value [255, 255, 255] -> [True, True, True],\n",
        "# and then we reduce it to a single value (reduce_any), i.e., RGB value [255, 255, 255] -> [True].\n",
        "# Finally, cast boolean values to float to obtain 0-1 labels.\n",
        "def prepare_target(x_, y_):\n",
        "    return x_, tf.cast(tf.reduce_any(y_ > 0, axis=-1, keepdims=True), tf.float32)\n",
        "\n",
        "train_dataset = train_dataset.map(prepare_target)\n",
        "\n",
        "# Repeat\n",
        "train_dataset = train_dataset.repeat()\n",
        "\n",
        "# Validation\n",
        "# ----------\n",
        "valid_dataset = tf.data.Dataset.from_generator(lambda: valid_gen, \n",
        "                                               output_types=(tf.float32, tf.float32),\n",
        "                                               output_shapes=([None, img_h, img_w, 3], [None, img_h, img_w, 3]))\n",
        "valid_dataset = valid_dataset.map(prepare_target)\n",
        "\n",
        "# Repeat\n",
        "valid_dataset = valid_dataset.repeat()"
      ],
      "execution_count": null,
      "outputs": []
    },
    {
      "cell_type": "code",
      "metadata": {
        "id": "HOBabUbmnFJE"
      },
      "source": [
        "iterator = iter(train_dataset)"
      ],
      "execution_count": null,
      "outputs": []
    },
    {
      "cell_type": "code",
      "metadata": {
        "id": "9eunbPwWqPnB",
        "colab": {
          "base_uri": "https://localhost:8080/",
          "height": 239
        },
        "outputId": "eefeddb5-4123-4992-ba19-55856dbb58ae"
      },
      "source": [
        "# Let's test data generator\n",
        "# -------------------------\n",
        "import time\n",
        "import matplotlib.pyplot as plt\n",
        "\n",
        "%matplotlib inline\n",
        "\n",
        "# Assign a color to each class\n",
        "colors_dict = {}\n",
        "colors_dict[1] = [255, 255, 255]  # foreground\n",
        "colors_dict[0] = [0, 0, 0]  # background\n",
        "\n",
        "iterator = iter(train_dataset)\n",
        "\n",
        "fig, ax = plt.subplots(1, 2)\n",
        "\n",
        "augmented_img, target = next(iterator)\n",
        "augmented_img = augmented_img[0]   # First element\n",
        "augmented_img = augmented_img * 255  # denormalize\n",
        "\n",
        "target = np.array(target[0, ..., 0])   # First element (squeezing channel dimension)\n",
        "\n",
        "print(np.unique(target))\n",
        "\n",
        "# Assign colors (just for visualization)\n",
        "target_img = np.zeros([target.shape[0], target.shape[1], 3])\n",
        "\n",
        "target_img[np.where(target == 0)] = colors_dict[0]\n",
        "target_img[np.where(target == 1)] = colors_dict[1]\n",
        "\n",
        "ax[0].imshow(np.uint8(augmented_img))\n",
        "ax[1].imshow(np.uint8(target_img))\n",
        "\n",
        "plt.show()"
      ],
      "execution_count": null,
      "outputs": [
        {
          "output_type": "stream",
          "text": [
            "[0. 1.]\n"
          ],
          "name": "stdout"
        },
        {
          "output_type": "execute_result",
          "data": {
            "text/plain": [
              "<matplotlib.image.AxesImage at 0x7f6b2c9b1320>"
            ]
          },
          "metadata": {
            "tags": []
          },
          "execution_count": 32
        },
        {
          "output_type": "execute_result",
          "data": {
            "text/plain": [
              "<matplotlib.image.AxesImage at 0x7f6b2c9bffd0>"
            ]
          },
          "metadata": {
            "tags": []
          },
          "execution_count": 32
        },
        {
          "output_type": "display_data",
          "data": {
            "image/png": "[encoded data removed]",
            "text/plain": [
              "<Figure size 432x288 with 2 Axes>"
            ]
          },
          "metadata": {
            "tags": [],
            "needs_background": "light"
          }
        }
      ]
    },
    {
      "cell_type": "markdown",
      "metadata": {
        "id": "JA1TGlOMnFJM"
      },
      "source": [
        "## Convolutional Neural Network (CNN)\n",
        "### Encoder-Decoder"
      ]
    },
    {
      "cell_type": "code",
      "metadata": {
        "id": "sMQ1rIBUnFJN"
      },
      "source": [
        "# Create Model\n",
        "# ------------\n",
        "\n",
        "def create_model(depth, start_f, num_classes, dynamic_input_shape):\n",
        "\n",
        "    model = tf.keras.Sequential()\n",
        "    \n",
        "    # Encoder\n",
        "    # -------\n",
        "    for i in range(depth):\n",
        "        \n",
        "        if i == 0:\n",
        "            if dynamic_input_shape:\n",
        "                input_shape = [None, None, 3]\n",
        "            else:\n",
        "                input_shape = [img_h, img_w, 3]\n",
        "        else:\n",
        "            input_shape=[None]\n",
        "        \n",
        "        model.add(tf.keras.layers.Conv2D(filters=start_f, \n",
        "                                         kernel_size=(3, 3),\n",
        "                                         strides=(1, 1),\n",
        "                                         padding='same',\n",
        "                                         input_shape=input_shape))\n",
        "        model.add(tf.keras.layers.ReLU())\n",
        "        model.add(tf.keras.layers.MaxPool2D(pool_size=(2, 2)))\n",
        "\n",
        "        start_f *= 2\n",
        "\n",
        "    # Bottleneck\n",
        "    model.add(tf.keras.layers.Conv2D(filters=start_f, kernel_size=(3, 3), strides=(1, 1), padding='same'))\n",
        "    model.add(tf.keras.layers.ReLU())\n",
        "    \n",
        "    start_f = start_f // 2\n",
        "        \n",
        "    # Decoder\n",
        "    # -------\n",
        "    for i in range(depth):\n",
        "        model.add(tf.keras.layers.UpSampling2D(2, interpolation='bilinear'))\n",
        "        model.add(tf.keras.layers.Conv2D(filters=start_f,\n",
        "                                         kernel_size=(3, 3),\n",
        "                                         strides=(1, 1),\n",
        "                                         padding='same'))\n",
        "        model.add(tf.keras.layers.ReLU())\n",
        "\n",
        "        start_f = start_f // 2\n",
        "\n",
        "    # Prediction Layer\n",
        "    # ----------------\n",
        "    model.add(tf.keras.layers.Conv2D(filters=1,\n",
        "                                     kernel_size=(1, 1),\n",
        "                                     strides=(1, 1),\n",
        "                                     padding='same',\n",
        "                                     activation='sigmoid'))\n",
        "    \n",
        "    return model"
      ],
      "execution_count": null,
      "outputs": []
    },
    {
      "cell_type": "code",
      "metadata": {
        "scrolled": true,
        "id": "k97OK6CRnFJS",
        "colab": {
          "base_uri": "https://localhost:8080/"
        },
        "outputId": "019c4027-db26-4d42-af01-8092edc8b137"
      },
      "source": [
        "model = create_model(depth=5, \n",
        "                     start_f=8, \n",
        "                     num_classes=1, \n",
        "                     dynamic_input_shape=False)\n",
        "\n",
        "# Visualize created model as a table\n",
        "model.summary()\n",
        "\n",
        "# Visualize initialized weights\n",
        "# model.weights"
      ],
      "execution_count": null,
      "outputs": [
        {
          "output_type": "stream",
          "text": [
            "Model: \"sequential\"\n",
            "_________________________________________________________________\n",
            "Layer (type)                 Output Shape              Param #   \n",
            "=================================================================\n",
            "conv2d (Conv2D)              (None, 256, 256, 8)       224       \n",
            "_________________________________________________________________\n",
            "re_lu (ReLU)                 (None, 256, 256, 8)       0         \n",
            "_________________________________________________________________\n",
            "max_pooling2d (MaxPooling2D) (None, 128, 128, 8)       0         \n",
            "_________________________________________________________________\n",
            "conv2d_1 (Conv2D)            (None, 128, 128, 16)      1168      \n",
            "_________________________________________________________________\n",
            "re_lu_1 (ReLU)               (None, 128, 128, 16)      0         \n",
            "_________________________________________________________________\n",
            "max_pooling2d_1 (MaxPooling2 (None, 64, 64, 16)        0         \n",
            "_________________________________________________________________\n",
            "conv2d_2 (Conv2D)            (None, 64, 64, 32)        4640      \n",
            "_________________________________________________________________\n",
            "re_lu_2 (ReLU)               (None, 64, 64, 32)        0         \n",
            "_________________________________________________________________\n",
            "max_pooling2d_2 (MaxPooling2 (None, 32, 32, 32)        0         \n",
            "_________________________________________________________________\n",
            "conv2d_3 (Conv2D)            (None, 32, 32, 64)        18496     \n",
            "_________________________________________________________________\n",
            "re_lu_3 (ReLU)               (None, 32, 32, 64)        0         \n",
            "_________________________________________________________________\n",
            "max_pooling2d_3 (MaxPooling2 (None, 16, 16, 64)        0         \n",
            "_________________________________________________________________\n",
            "conv2d_4 (Conv2D)            (None, 16, 16, 128)       73856     \n",
            "_________________________________________________________________\n",
            "re_lu_4 (ReLU)               (None, 16, 16, 128)       0         \n",
            "_________________________________________________________________\n",
            "max_pooling2d_4 (MaxPooling2 (None, 8, 8, 128)         0         \n",
            "_________________________________________________________________\n",
            "conv2d_5 (Conv2D)            (None, 8, 8, 256)         295168    \n",
            "_________________________________________________________________\n",
            "re_lu_5 (ReLU)               (None, 8, 8, 256)         0         \n",
            "_________________________________________________________________\n",
            "up_sampling2d (UpSampling2D) (None, 16, 16, 256)       0         \n",
            "_________________________________________________________________\n",
            "conv2d_6 (Conv2D)            (None, 16, 16, 128)       295040    \n",
            "_________________________________________________________________\n",
            "re_lu_6 (ReLU)               (None, 16, 16, 128)       0         \n",
            "_________________________________________________________________\n",
            "up_sampling2d_1 (UpSampling2 (None, 32, 32, 128)       0         \n",
            "_________________________________________________________________\n",
            "conv2d_7 (Conv2D)            (None, 32, 32, 64)        73792     \n",
            "_________________________________________________________________\n",
            "re_lu_7 (ReLU)               (None, 32, 32, 64)        0         \n",
            "_________________________________________________________________\n",
            "up_sampling2d_2 (UpSampling2 (None, 64, 64, 64)        0         \n",
            "_________________________________________________________________\n",
            "conv2d_8 (Conv2D)            (None, 64, 64, 32)        18464     \n",
            "_________________________________________________________________\n",
            "re_lu_8 (ReLU)               (None, 64, 64, 32)        0         \n",
            "_________________________________________________________________\n",
            "up_sampling2d_3 (UpSampling2 (None, 128, 128, 32)      0         \n",
            "_________________________________________________________________\n",
            "conv2d_9 (Conv2D)            (None, 128, 128, 16)      4624      \n",
            "_________________________________________________________________\n",
            "re_lu_9 (ReLU)               (None, 128, 128, 16)      0         \n",
            "_________________________________________________________________\n",
            "up_sampling2d_4 (UpSampling2 (None, 256, 256, 16)      0         \n",
            "_________________________________________________________________\n",
            "conv2d_10 (Conv2D)           (None, 256, 256, 8)       1160      \n",
            "_________________________________________________________________\n",
            "re_lu_10 (ReLU)              (None, 256, 256, 8)       0         \n",
            "_________________________________________________________________\n",
            "conv2d_11 (Conv2D)           (None, 256, 256, 1)       9         \n",
            "=================================================================\n",
            "Total params: 786,641\n",
            "Trainable params: 786,641\n",
            "Non-trainable params: 0\n",
            "_________________________________________________________________\n"
          ],
          "name": "stdout"
        }
      ]
    },
    {
      "cell_type": "markdown",
      "metadata": {
        "id": "NGzh16WTnFJW"
      },
      "source": [
        "## Prepare the model for training"
      ]
    },
    {
      "cell_type": "code",
      "metadata": {
        "id": "9MlmYGVMnFJW"
      },
      "source": [
        "# Optimization params\n",
        "# -------------------\n",
        "\n",
        "# Loss\n",
        "# Binary Crossentropy\n",
        "loss = tf.keras.losses.BinaryCrossentropy() \n",
        "# learning rate\n",
        "lr = 1e-3\n",
        "optimizer = tf.keras.optimizers.Adam(learning_rate=lr)\n",
        "# -------------------\n",
        "\n",
        "# Validation metrics\n",
        "# ------------------\n",
        "score_th = 0.5\n",
        "\n",
        "def IoU(y_true, y_pred):\n",
        "    y_pred = tf.cast(y_pred > score_th, tf.float32)\n",
        "    \n",
        "    intersection = tf.reduce_sum(y_true * y_pred)\n",
        "    union = tf.reduce_sum(y_true) + tf.reduce_sum(y_pred) - intersection\n",
        "    \n",
        "    return intersection / union\n",
        "\n",
        "metrics = ['accuracy', IoU]\n",
        "# ------------------\n",
        "\n",
        "# Compile Model\n",
        "model.compile(optimizer=optimizer, loss=loss, metrics=metrics)"
      ],
      "execution_count": null,
      "outputs": []
    },
    {
      "cell_type": "markdown",
      "metadata": {
        "id": "PA6D_TBknFJZ"
      },
      "source": [
        "## Training with callbacks"
      ]
    },
    {
      "cell_type": "code",
      "metadata": {
        "scrolled": true,
        "id": "3XiwaKZhnFJa",
        "colab": {
          "base_uri": "https://localhost:8080/"
        },
        "outputId": "abc1cc63-a2f9-4650-acd2-76695e96860a"
      },
      "source": [
        "import os\n",
        "from datetime import datetime\n",
        "\n",
        "cwd = os.getcwd()\n",
        "\n",
        "exps_dir = os.path.join(cwd, 'drive/My Drive/Keras4/', 'binary_segmentation_experiments')\n",
        "if not os.path.exists(exps_dir):\n",
        "    os.makedirs(exps_dir)\n",
        "\n",
        "now = datetime.now().strftime('%b%d_%H-%M-%S')\n",
        "\n",
        "model_name = 'CNN'\n",
        "\n",
        "exp_dir = os.path.join(exps_dir, model_name + '_' + str(now))\n",
        "if not os.path.exists(exp_dir):\n",
        "    os.makedirs(exp_dir)\n",
        "    \n",
        "callbacks = []\n",
        "\n",
        "# Model checkpoint\n",
        "# ----------------\n",
        "ckpt_dir = os.path.join(exp_dir, 'ckpts')\n",
        "if not os.path.exists(ckpt_dir):\n",
        "    os.makedirs(ckpt_dir)\n",
        "\n",
        "ckpt_callback = tf.keras.callbacks.ModelCheckpoint(filepath=os.path.join(ckpt_dir, 'cp_{epoch:02d}.ckpt'), \n",
        "                                                   save_weights_only=True)  # False to save the model directly\n",
        "callbacks.append(ckpt_callback)\n",
        "\n",
        "# Visualize Learning on Tensorboard\n",
        "# ---------------------------------\n",
        "tb_dir = os.path.join(exp_dir, 'tb_logs')\n",
        "if not os.path.exists(tb_dir):\n",
        "    os.makedirs(tb_dir)\n",
        "    \n",
        "# By default shows losses and metrics for both training and validation\n",
        "tb_callback = tf.keras.callbacks.TensorBoard(log_dir=tb_dir,\n",
        "                                             profile_batch=0,\n",
        "                                             histogram_freq=0)  # if 1 shows weights histograms\n",
        "callbacks.append(tb_callback)\n",
        "\n",
        "# Early Stopping\n",
        "# --------------\n",
        "early_stop = False\n",
        "if early_stop:\n",
        "    es_callback = tf.keras.callback.EarlyStopping(monitor='val_loss', patience=10)\n",
        "    callbacks.append(es_callback)\n",
        "\n",
        "\n",
        "model.fit(x=train_dataset,\n",
        "          epochs=100,  #### set repeat in training dataset\n",
        "          steps_per_epoch=len(train_img_gen),\n",
        "          validation_data=valid_dataset,\n",
        "          validation_steps=len(valid_img_gen), \n",
        "          callbacks=callbacks)\n",
        "\n",
        "# How to visualize Tensorboard\n",
        "\n",
        "# 1. tensorboard --logdir EXPERIMENTS_DIR --port PORT     <- from terminal\n",
        "# 2. localhost:PORT   <- in your browser"
      ],
      "execution_count": null,
      "outputs": [
        {
          "output_type": "stream",
          "text": [
            "Epoch 1/100\n",
            "5/5 [==============================] - 140s 27s/step - loss: 0.6800 - accuracy: 0.4035 - IoU: 0.0922 - val_loss: 0.3949 - val_accuracy: 0.8915 - val_IoU: 0.0000e+00\n",
            "Epoch 2/100\n",
            "5/5 [==============================] - 12s 2s/step - loss: 0.5128 - accuracy: 0.8435 - IoU: 0.0000e+00 - val_loss: 0.4536 - val_accuracy: 0.8915 - val_IoU: 0.0000e+00\n",
            "Epoch 3/100\n",
            "5/5 [==============================] - 11s 2s/step - loss: 0.4823 - accuracy: 0.8484 - IoU: 0.0000e+00 - val_loss: 0.3575 - val_accuracy: 0.8915 - val_IoU: 0.0000e+00\n",
            "Epoch 4/100\n",
            "5/5 [==============================] - 11s 2s/step - loss: 0.4398 - accuracy: 0.8410 - IoU: 0.0000e+00 - val_loss: 0.3148 - val_accuracy: 0.8915 - val_IoU: 0.0000e+00\n",
            "Epoch 5/100\n",
            "5/5 [==============================] - 11s 2s/step - loss: 0.3839 - accuracy: 0.8473 - IoU: 0.0000e+00 - val_loss: 0.2821 - val_accuracy: 0.8915 - val_IoU: 0.0000e+00\n",
            "Epoch 6/100\n",
            "5/5 [==============================] - 11s 2s/step - loss: 0.3435 - accuracy: 0.8467 - IoU: 0.0000e+00 - val_loss: 0.2868 - val_accuracy: 0.8915 - val_IoU: 0.0000e+00\n",
            "Epoch 7/100\n",
            "5/5 [==============================] - 11s 2s/step - loss: 0.3361 - accuracy: 0.8496 - IoU: 0.0000e+00 - val_loss: 0.3049 - val_accuracy: 0.8915 - val_IoU: 0.0000e+00\n",
            "Epoch 8/100\n",
            "5/5 [==============================] - 11s 2s/step - loss: 0.3327 - accuracy: 0.8524 - IoU: 0.0000e+00 - val_loss: 0.2743 - val_accuracy: 0.8915 - val_IoU: 0.0000e+00\n",
            "Epoch 9/100\n",
            "5/5 [==============================] - 11s 2s/step - loss: 0.3180 - accuracy: 0.8481 - IoU: 0.0000e+00 - val_loss: 0.2434 - val_accuracy: 0.8915 - val_IoU: 0.0000e+00\n",
            "Epoch 10/100\n",
            "5/5 [==============================] - 12s 2s/step - loss: 0.2992 - accuracy: 0.8484 - IoU: 0.0000e+00 - val_loss: 0.2386 - val_accuracy: 0.8915 - val_IoU: 0.0000e+00\n",
            "Epoch 11/100\n",
            "5/5 [==============================] - 11s 2s/step - loss: 0.2887 - accuracy: 0.8513 - IoU: 0.0000e+00 - val_loss: 0.2285 - val_accuracy: 0.8915 - val_IoU: 0.0000e+00\n",
            "Epoch 12/100\n",
            "5/5 [==============================] - 12s 2s/step - loss: 0.2776 - accuracy: 0.8500 - IoU: 0.0000e+00 - val_loss: 0.2243 - val_accuracy: 0.8915 - val_IoU: 0.0000e+00\n",
            "Epoch 13/100\n",
            "5/5 [==============================] - 11s 2s/step - loss: 0.2620 - accuracy: 0.8530 - IoU: 0.0126 - val_loss: 0.2195 - val_accuracy: 0.9040 - val_IoU: 0.2471\n",
            "Epoch 14/100\n",
            "5/5 [==============================] - 12s 2s/step - loss: 0.2689 - accuracy: 0.8832 - IoU: 0.3704 - val_loss: 0.2124 - val_accuracy: 0.9062 - val_IoU: 0.3368\n",
            "Epoch 15/100\n",
            "5/5 [==============================] - 11s 2s/step - loss: 0.2481 - accuracy: 0.8946 - IoU: 0.4768 - val_loss: 0.2167 - val_accuracy: 0.9059 - val_IoU: 0.2912\n",
            "Epoch 16/100\n",
            "5/5 [==============================] - 11s 2s/step - loss: 0.2422 - accuracy: 0.8980 - IoU: 0.4767 - val_loss: 0.2099 - val_accuracy: 0.9079 - val_IoU: 0.3384\n",
            "Epoch 17/100\n",
            "5/5 [==============================] - 11s 2s/step - loss: 0.2341 - accuracy: 0.9008 - IoU: 0.4802 - val_loss: 0.2065 - val_accuracy: 0.9079 - val_IoU: 0.3184\n",
            "Epoch 18/100\n",
            "5/5 [==============================] - 11s 2s/step - loss: 0.2295 - accuracy: 0.9029 - IoU: 0.4596 - val_loss: 0.2077 - val_accuracy: 0.9075 - val_IoU: 0.2829\n",
            "Epoch 19/100\n",
            "5/5 [==============================] - 11s 2s/step - loss: 0.2237 - accuracy: 0.9047 - IoU: 0.5028 - val_loss: 0.2025 - val_accuracy: 0.9102 - val_IoU: 0.4355\n",
            "Epoch 20/100\n",
            "5/5 [==============================] - 11s 2s/step - loss: 0.2261 - accuracy: 0.9018 - IoU: 0.5289 - val_loss: 0.2316 - val_accuracy: 0.9058 - val_IoU: 0.2348\n",
            "Epoch 21/100\n",
            "5/5 [==============================] - 11s 2s/step - loss: 0.2341 - accuracy: 0.9074 - IoU: 0.4956 - val_loss: 0.2172 - val_accuracy: 0.9048 - val_IoU: 0.2230\n",
            "Epoch 22/100\n",
            "5/5 [==============================] - 11s 2s/step - loss: 0.2264 - accuracy: 0.9038 - IoU: 0.5186 - val_loss: 0.2141 - val_accuracy: 0.9053 - val_IoU: 0.2315\n",
            "Epoch 23/100\n",
            "5/5 [==============================] - 11s 2s/step - loss: 0.2158 - accuracy: 0.9094 - IoU: 0.5114 - val_loss: 0.2065 - val_accuracy: 0.9093 - val_IoU: 0.2876\n",
            "Epoch 24/100\n",
            "5/5 [==============================] - 11s 2s/step - loss: 0.2165 - accuracy: 0.9104 - IoU: 0.5315 - val_loss: 0.2028 - val_accuracy: 0.9116 - val_IoU: 0.3360\n",
            "Epoch 25/100\n",
            "5/5 [==============================] - 11s 2s/step - loss: 0.2052 - accuracy: 0.9119 - IoU: 0.5398 - val_loss: 0.1978 - val_accuracy: 0.9151 - val_IoU: 0.3939\n",
            "Epoch 26/100\n",
            "5/5 [==============================] - 11s 2s/step - loss: 0.2107 - accuracy: 0.9102 - IoU: 0.5652 - val_loss: 0.1963 - val_accuracy: 0.9152 - val_IoU: 0.3876\n",
            "Epoch 27/100\n",
            "5/5 [==============================] - 11s 2s/step - loss: 0.2005 - accuracy: 0.9165 - IoU: 0.5633 - val_loss: 0.1955 - val_accuracy: 0.9159 - val_IoU: 0.3909\n",
            "Epoch 28/100\n",
            "5/5 [==============================] - 11s 2s/step - loss: 0.2009 - accuracy: 0.9167 - IoU: 0.5653 - val_loss: 0.1960 - val_accuracy: 0.9163 - val_IoU: 0.3757\n",
            "Epoch 29/100\n",
            "5/5 [==============================] - 11s 2s/step - loss: 0.1959 - accuracy: 0.9181 - IoU: 0.5537 - val_loss: 0.1914 - val_accuracy: 0.9190 - val_IoU: 0.4491\n",
            "Epoch 30/100\n",
            "5/5 [==============================] - 11s 2s/step - loss: 0.1970 - accuracy: 0.9185 - IoU: 0.5871 - val_loss: 0.1863 - val_accuracy: 0.9202 - val_IoU: 0.4418\n",
            "Epoch 31/100\n",
            "5/5 [==============================] - 11s 2s/step - loss: 0.1858 - accuracy: 0.9237 - IoU: 0.5958 - val_loss: 0.1852 - val_accuracy: 0.9209 - val_IoU: 0.4319\n",
            "Epoch 32/100\n",
            "5/5 [==============================] - 11s 2s/step - loss: 0.1855 - accuracy: 0.9246 - IoU: 0.5996 - val_loss: 0.2135 - val_accuracy: 0.9110 - val_IoU: 0.2733\n",
            "Epoch 33/100\n",
            "5/5 [==============================] - 11s 2s/step - loss: 0.2142 - accuracy: 0.9091 - IoU: 0.5277 - val_loss: 0.2126 - val_accuracy: 0.9199 - val_IoU: 0.4592\n",
            "Epoch 34/100\n",
            "5/5 [==============================] - 11s 2s/step - loss: 0.2061 - accuracy: 0.9231 - IoU: 0.6150 - val_loss: 0.1953 - val_accuracy: 0.9182 - val_IoU: 0.4846\n",
            "Epoch 35/100\n",
            "5/5 [==============================] - 11s 2s/step - loss: 0.1904 - accuracy: 0.9221 - IoU: 0.5907 - val_loss: 0.1850 - val_accuracy: 0.9215 - val_IoU: 0.4691\n",
            "Epoch 36/100\n",
            "5/5 [==============================] - 11s 2s/step - loss: 0.1880 - accuracy: 0.9252 - IoU: 0.6077 - val_loss: 0.1824 - val_accuracy: 0.9214 - val_IoU: 0.4259\n",
            "Epoch 37/100\n",
            "5/5 [==============================] - 11s 2s/step - loss: 0.1898 - accuracy: 0.9213 - IoU: 0.5874 - val_loss: 0.1840 - val_accuracy: 0.9229 - val_IoU: 0.4641\n",
            "Epoch 38/100\n",
            "5/5 [==============================] - 11s 2s/step - loss: 0.1806 - accuracy: 0.9265 - IoU: 0.6243 - val_loss: 0.1801 - val_accuracy: 0.9237 - val_IoU: 0.4468\n",
            "Epoch 39/100\n",
            "5/5 [==============================] - 11s 2s/step - loss: 0.1810 - accuracy: 0.9259 - IoU: 0.6149 - val_loss: 0.1903 - val_accuracy: 0.9229 - val_IoU: 0.4259\n",
            "Epoch 40/100\n",
            "5/5 [==============================] - 11s 2s/step - loss: 0.1834 - accuracy: 0.9271 - IoU: 0.6080 - val_loss: 0.1802 - val_accuracy: 0.9244 - val_IoU: 0.4491\n",
            "Epoch 41/100\n",
            "5/5 [==============================] - 11s 2s/step - loss: 0.1757 - accuracy: 0.9294 - IoU: 0.6203 - val_loss: 0.1753 - val_accuracy: 0.9264 - val_IoU: 0.4717\n",
            "Epoch 42/100\n",
            "5/5 [==============================] - 12s 2s/step - loss: 0.1736 - accuracy: 0.9301 - IoU: 0.6316 - val_loss: 0.1742 - val_accuracy: 0.9273 - val_IoU: 0.4987\n",
            "Epoch 43/100\n",
            "5/5 [==============================] - 12s 2s/step - loss: 0.1760 - accuracy: 0.9294 - IoU: 0.6444 - val_loss: 0.1778 - val_accuracy: 0.9270 - val_IoU: 0.4608\n",
            "Epoch 44/100\n",
            "5/5 [==============================] - 12s 2s/step - loss: 0.1667 - accuracy: 0.9335 - IoU: 0.6323 - val_loss: 0.1704 - val_accuracy: 0.9292 - val_IoU: 0.4819\n",
            "Epoch 45/100\n",
            "5/5 [==============================] - 12s 2s/step - loss: 0.1647 - accuracy: 0.9344 - IoU: 0.6433 - val_loss: 0.1717 - val_accuracy: 0.9303 - val_IoU: 0.4835\n",
            "Epoch 46/100\n",
            "5/5 [==============================] - 12s 2s/step - loss: 0.1672 - accuracy: 0.9333 - IoU: 0.6329 - val_loss: 0.1689 - val_accuracy: 0.9315 - val_IoU: 0.4974\n",
            "Epoch 47/100\n",
            "5/5 [==============================] - 12s 2s/step - loss: 0.1623 - accuracy: 0.9370 - IoU: 0.6360 - val_loss: 0.1671 - val_accuracy: 0.9321 - val_IoU: 0.5072\n",
            "Epoch 48/100\n",
            "5/5 [==============================] - 12s 2s/step - loss: 0.1638 - accuracy: 0.9344 - IoU: 0.6547 - val_loss: 0.1699 - val_accuracy: 0.9327 - val_IoU: 0.4915\n",
            "Epoch 49/100\n",
            "5/5 [==============================] - 12s 2s/step - loss: 0.1647 - accuracy: 0.9350 - IoU: 0.6547 - val_loss: 0.1644 - val_accuracy: 0.9340 - val_IoU: 0.5124\n",
            "Epoch 50/100\n",
            "5/5 [==============================] - 11s 2s/step - loss: 0.1594 - accuracy: 0.9369 - IoU: 0.6695 - val_loss: 0.1628 - val_accuracy: 0.9343 - val_IoU: 0.5354\n",
            "Epoch 51/100\n",
            "5/5 [==============================] - 12s 2s/step - loss: 0.1591 - accuracy: 0.9372 - IoU: 0.6602 - val_loss: 0.1700 - val_accuracy: 0.9321 - val_IoU: 0.4629\n",
            "Epoch 52/100\n",
            "5/5 [==============================] - 12s 2s/step - loss: 0.1656 - accuracy: 0.9352 - IoU: 0.6433 - val_loss: 0.1625 - val_accuracy: 0.9358 - val_IoU: 0.5421\n",
            "Epoch 53/100\n",
            "5/5 [==============================] - 11s 2s/step - loss: 0.1570 - accuracy: 0.9382 - IoU: 0.6595 - val_loss: 0.1617 - val_accuracy: 0.9368 - val_IoU: 0.5420\n",
            "Epoch 54/100\n",
            "5/5 [==============================] - 12s 2s/step - loss: 0.1578 - accuracy: 0.9384 - IoU: 0.6676 - val_loss: 0.1673 - val_accuracy: 0.9341 - val_IoU: 0.4790\n",
            "Epoch 55/100\n",
            "5/5 [==============================] - 11s 2s/step - loss: 0.1548 - accuracy: 0.9397 - IoU: 0.6577 - val_loss: 0.1602 - val_accuracy: 0.9357 - val_IoU: 0.5632\n",
            "Epoch 56/100\n",
            "5/5 [==============================] - 12s 2s/step - loss: 0.1529 - accuracy: 0.9405 - IoU: 0.6595 - val_loss: 0.1610 - val_accuracy: 0.9377 - val_IoU: 0.5228\n",
            "Epoch 57/100\n",
            "5/5 [==============================] - 12s 2s/step - loss: 0.1516 - accuracy: 0.9404 - IoU: 0.6729 - val_loss: 0.1615 - val_accuracy: 0.9352 - val_IoU: 0.5652\n",
            "Epoch 58/100\n",
            "5/5 [==============================] - 11s 2s/step - loss: 0.1595 - accuracy: 0.9371 - IoU: 0.6649 - val_loss: 0.1621 - val_accuracy: 0.9377 - val_IoU: 0.5200\n",
            "Epoch 59/100\n",
            "5/5 [==============================] - 12s 2s/step - loss: 0.1494 - accuracy: 0.9414 - IoU: 0.6760 - val_loss: 0.1571 - val_accuracy: 0.9398 - val_IoU: 0.5571\n",
            "Epoch 60/100\n",
            "5/5 [==============================] - 11s 2s/step - loss: 0.1544 - accuracy: 0.9402 - IoU: 0.6799 - val_loss: 0.1572 - val_accuracy: 0.9394 - val_IoU: 0.5432\n",
            "Epoch 61/100\n",
            "5/5 [==============================] - 12s 2s/step - loss: 0.1481 - accuracy: 0.9423 - IoU: 0.6808 - val_loss: 0.1556 - val_accuracy: 0.9402 - val_IoU: 0.5706\n",
            "Epoch 62/100\n",
            "5/5 [==============================] - 12s 2s/step - loss: 0.1485 - accuracy: 0.9421 - IoU: 0.6876 - val_loss: 0.1542 - val_accuracy: 0.9409 - val_IoU: 0.5585\n",
            "Epoch 63/100\n",
            "5/5 [==============================] - 12s 2s/step - loss: 0.1439 - accuracy: 0.9437 - IoU: 0.7087 - val_loss: 0.1537 - val_accuracy: 0.9412 - val_IoU: 0.5628\n",
            "Epoch 64/100\n",
            "5/5 [==============================] - 12s 2s/step - loss: 0.1465 - accuracy: 0.9434 - IoU: 0.6783 - val_loss: 0.1534 - val_accuracy: 0.9413 - val_IoU: 0.5759\n",
            "Epoch 65/100\n",
            "5/5 [==============================] - 12s 2s/step - loss: 0.1531 - accuracy: 0.9400 - IoU: 0.6660 - val_loss: 0.1631 - val_accuracy: 0.9391 - val_IoU: 0.5258\n",
            "Epoch 66/100\n",
            "5/5 [==============================] - 12s 2s/step - loss: 0.1549 - accuracy: 0.9399 - IoU: 0.6749 - val_loss: 0.1646 - val_accuracy: 0.9403 - val_IoU: 0.5450\n",
            "Epoch 67/100\n",
            "5/5 [==============================] - 12s 2s/step - loss: 0.1498 - accuracy: 0.9422 - IoU: 0.6854 - val_loss: 0.1521 - val_accuracy: 0.9416 - val_IoU: 0.5732\n",
            "Epoch 68/100\n",
            "5/5 [==============================] - 12s 2s/step - loss: 0.1454 - accuracy: 0.9426 - IoU: 0.6871 - val_loss: 0.1543 - val_accuracy: 0.9402 - val_IoU: 0.5783\n",
            "Epoch 69/100\n",
            "5/5 [==============================] - 12s 2s/step - loss: 0.1478 - accuracy: 0.9433 - IoU: 0.6830 - val_loss: 0.1550 - val_accuracy: 0.9412 - val_IoU: 0.5489\n",
            "Epoch 70/100\n",
            "5/5 [==============================] - 12s 2s/step - loss: 0.1429 - accuracy: 0.9446 - IoU: 0.6709 - val_loss: 0.1523 - val_accuracy: 0.9420 - val_IoU: 0.5678\n",
            "Epoch 71/100\n",
            "5/5 [==============================] - 12s 2s/step - loss: 0.1389 - accuracy: 0.9466 - IoU: 0.6907 - val_loss: 0.1503 - val_accuracy: 0.9423 - val_IoU: 0.5780\n",
            "Epoch 72/100\n",
            "5/5 [==============================] - 12s 2s/step - loss: 0.1367 - accuracy: 0.9463 - IoU: 0.7146 - val_loss: 0.1551 - val_accuracy: 0.9409 - val_IoU: 0.5358\n",
            "Epoch 73/100\n",
            "5/5 [==============================] - 12s 2s/step - loss: 0.1386 - accuracy: 0.9459 - IoU: 0.6882 - val_loss: 0.1496 - val_accuracy: 0.9427 - val_IoU: 0.5682\n",
            "Epoch 74/100\n",
            "5/5 [==============================] - 12s 2s/step - loss: 0.1383 - accuracy: 0.9465 - IoU: 0.6990 - val_loss: 0.1490 - val_accuracy: 0.9431 - val_IoU: 0.5744\n",
            "Epoch 75/100\n",
            "5/5 [==============================] - 12s 2s/step - loss: 0.1363 - accuracy: 0.9469 - IoU: 0.7083 - val_loss: 0.1499 - val_accuracy: 0.9423 - val_IoU: 0.5657\n",
            "Epoch 76/100\n",
            "5/5 [==============================] - 12s 2s/step - loss: 0.1359 - accuracy: 0.9468 - IoU: 0.7140 - val_loss: 0.1499 - val_accuracy: 0.9435 - val_IoU: 0.5748\n",
            "Epoch 77/100\n",
            "5/5 [==============================] - 12s 2s/step - loss: 0.1343 - accuracy: 0.9469 - IoU: 0.7160 - val_loss: 0.1481 - val_accuracy: 0.9434 - val_IoU: 0.5796\n",
            "Epoch 78/100\n",
            "5/5 [==============================] - 12s 2s/step - loss: 0.1361 - accuracy: 0.9470 - IoU: 0.7135 - val_loss: 0.1510 - val_accuracy: 0.9430 - val_IoU: 0.5616\n",
            "Epoch 79/100\n",
            "5/5 [==============================] - 11s 2s/step - loss: 0.1307 - accuracy: 0.9500 - IoU: 0.7104 - val_loss: 0.1489 - val_accuracy: 0.9436 - val_IoU: 0.5851\n",
            "Epoch 80/100\n",
            "5/5 [==============================] - 12s 2s/step - loss: 0.1344 - accuracy: 0.9473 - IoU: 0.7115 - val_loss: 0.1468 - val_accuracy: 0.9435 - val_IoU: 0.5770\n",
            "Epoch 81/100\n",
            "5/5 [==============================] - 12s 2s/step - loss: 0.1335 - accuracy: 0.9476 - IoU: 0.7226 - val_loss: 0.1512 - val_accuracy: 0.9428 - val_IoU: 0.5519\n",
            "Epoch 82/100\n",
            "5/5 [==============================] - 11s 2s/step - loss: 0.1325 - accuracy: 0.9485 - IoU: 0.7173 - val_loss: 0.1487 - val_accuracy: 0.9439 - val_IoU: 0.5730\n",
            "Epoch 83/100\n",
            "5/5 [==============================] - 11s 2s/step - loss: 0.1335 - accuracy: 0.9482 - IoU: 0.7064 - val_loss: 0.1481 - val_accuracy: 0.9444 - val_IoU: 0.5848\n",
            "Epoch 84/100\n",
            "5/5 [==============================] - 12s 2s/step - loss: 0.1309 - accuracy: 0.9493 - IoU: 0.7234 - val_loss: 0.1507 - val_accuracy: 0.9435 - val_IoU: 0.5850\n",
            "Epoch 85/100\n",
            "5/5 [==============================] - 12s 2s/step - loss: 0.1326 - accuracy: 0.9486 - IoU: 0.7210 - val_loss: 0.1547 - val_accuracy: 0.9437 - val_IoU: 0.5848\n",
            "Epoch 86/100\n",
            "5/5 [==============================] - 12s 2s/step - loss: 0.1309 - accuracy: 0.9491 - IoU: 0.7247 - val_loss: 0.1479 - val_accuracy: 0.9442 - val_IoU: 0.5714\n",
            "Epoch 87/100\n",
            "5/5 [==============================] - 12s 2s/step - loss: 0.1305 - accuracy: 0.9490 - IoU: 0.7193 - val_loss: 0.1490 - val_accuracy: 0.9439 - val_IoU: 0.5912\n",
            "Epoch 88/100\n",
            "5/5 [==============================] - 12s 2s/step - loss: 0.1277 - accuracy: 0.9506 - IoU: 0.7156 - val_loss: 0.1451 - val_accuracy: 0.9443 - val_IoU: 0.5788\n",
            "Epoch 89/100\n",
            "5/5 [==============================] - 12s 2s/step - loss: 0.1234 - accuracy: 0.9530 - IoU: 0.7352 - val_loss: 0.1469 - val_accuracy: 0.9448 - val_IoU: 0.5904\n",
            "Epoch 90/100\n",
            "5/5 [==============================] - 12s 2s/step - loss: 0.1281 - accuracy: 0.9507 - IoU: 0.7232 - val_loss: 0.1477 - val_accuracy: 0.9449 - val_IoU: 0.5812\n",
            "Epoch 91/100\n",
            "5/5 [==============================] - 12s 2s/step - loss: 0.1245 - accuracy: 0.9514 - IoU: 0.7320 - val_loss: 0.1497 - val_accuracy: 0.9424 - val_IoU: 0.5979\n",
            "Epoch 92/100\n",
            "5/5 [==============================] - 12s 2s/step - loss: 0.1312 - accuracy: 0.9484 - IoU: 0.7189 - val_loss: 0.1523 - val_accuracy: 0.9445 - val_IoU: 0.5736\n",
            "Epoch 93/100\n",
            "5/5 [==============================] - 12s 2s/step - loss: 0.1239 - accuracy: 0.9524 - IoU: 0.7315 - val_loss: 0.1450 - val_accuracy: 0.9451 - val_IoU: 0.5880\n",
            "Epoch 94/100\n",
            "5/5 [==============================] - 12s 2s/step - loss: 0.1230 - accuracy: 0.9517 - IoU: 0.7415 - val_loss: 0.1511 - val_accuracy: 0.9455 - val_IoU: 0.5889\n",
            "Epoch 95/100\n",
            "5/5 [==============================] - 12s 2s/step - loss: 0.1283 - accuracy: 0.9505 - IoU: 0.7298 - val_loss: 0.1491 - val_accuracy: 0.9443 - val_IoU: 0.5607\n",
            "Epoch 96/100\n",
            "5/5 [==============================] - 12s 2s/step - loss: 0.1236 - accuracy: 0.9531 - IoU: 0.7312 - val_loss: 0.1451 - val_accuracy: 0.9456 - val_IoU: 0.5818\n",
            "Epoch 97/100\n",
            "5/5 [==============================] - 12s 2s/step - loss: 0.1231 - accuracy: 0.9530 - IoU: 0.7244 - val_loss: 0.1470 - val_accuracy: 0.9443 - val_IoU: 0.5936\n",
            "Epoch 98/100\n",
            "5/5 [==============================] - 12s 2s/step - loss: 0.1245 - accuracy: 0.9513 - IoU: 0.7137 - val_loss: 0.1529 - val_accuracy: 0.9417 - val_IoU: 0.5957\n",
            "Epoch 99/100\n",
            "5/5 [==============================] - 12s 2s/step - loss: 0.1309 - accuracy: 0.9480 - IoU: 0.7245 - val_loss: 0.1486 - val_accuracy: 0.9449 - val_IoU: 0.5748\n",
            "Epoch 100/100\n",
            "5/5 [==============================] - 12s 2s/step - loss: 0.1234 - accuracy: 0.9522 - IoU: 0.7290 - val_loss: 0.1464 - val_accuracy: 0.9453 - val_IoU: 0.5868\n"
          ],
          "name": "stdout"
        },
        {
          "output_type": "execute_result",
          "data": {
            "text/plain": [
              "<tensorflow.python.keras.callbacks.History at 0x7f6b2ca606a0>"
            ]
          },
          "metadata": {
            "tags": []
          },
          "execution_count": 36
        }
      ]
    },
    {
      "cell_type": "markdown",
      "metadata": {
        "id": "EZ1Yl-InnFJd"
      },
      "source": [
        "## Test model"
      ]
    },
    {
      "cell_type": "markdown",
      "metadata": {
        "id": "WuVw1q_NnFJh"
      },
      "source": [
        "## Compute prediction"
      ]
    },
    {
      "cell_type": "code",
      "metadata": {
        "scrolled": false,
        "id": "zo1JbCO5nFJh"
      },
      "source": [
        "iterator = iter(valid_dataset)"
      ],
      "execution_count": null,
      "outputs": []
    },
    {
      "cell_type": "code",
      "metadata": {
        "id": "M75UjH7xxS7J",
        "colab": {
          "base_uri": "https://localhost:8080/",
          "height": 218
        },
        "outputId": "cea11170-87a6-4f9d-831d-dc0f8f364e30"
      },
      "source": [
        "fig, ax = plt.subplots(1, 3, figsize=(8, 8))\n",
        "fig.show()\n",
        "image, target = next(iterator)\n",
        "\n",
        "image = image[0]\n",
        "target = target[0, ..., 0]\n",
        "\n",
        "out_sigmoid = model.predict(x=tf.expand_dims(image, 0))\n",
        "\n",
        "# Get predicted class as the index corresponding to the maximum value in the vector probability\n",
        "predicted_class = tf.cast(out_sigmoid > score_th, tf.int32)\n",
        "predicted_class = predicted_class[0, ..., 0]\n",
        "\n",
        "print(predicted_class.shape)\n",
        "\n",
        "# Assign colors (just for visualization)\n",
        "target_img = np.zeros([target.shape[0], target.shape[1], 3])\n",
        "prediction_img = np.zeros([target.shape[0], target.shape[1], 3])\n",
        "\n",
        "target_img[np.where(target == 0)] = colors_dict[0]\n",
        "target_img[np.where(target == 1)] = colors_dict[1]\n",
        "\n",
        "prediction_img[np.where(predicted_class == 0)] = colors_dict[0]\n",
        "prediction_img[np.where(predicted_class == 1)] = colors_dict[1]\n",
        "\n",
        "ax[0].imshow(np.uint8(image*255.))\n",
        "ax[1].imshow(np.uint8(target_img))\n",
        "ax[2].imshow(np.uint8(prediction_img))\n",
        "\n",
        "fig.canvas.draw()\n",
        "time.sleep(1)"
      ],
      "execution_count": null,
      "outputs": [
        {
          "output_type": "stream",
          "text": [
            "(256, 256)\n"
          ],
          "name": "stdout"
        },
        {
          "output_type": "execute_result",
          "data": {
            "text/plain": [
              "<matplotlib.image.AxesImage at 0x7f6abc1e8b70>"
            ]
          },
          "metadata": {
            "tags": []
          },
          "execution_count": 38
        },
        {
          "output_type": "execute_result",
          "data": {
            "text/plain": [
              "<matplotlib.image.AxesImage at 0x7f6abc1cec50>"
            ]
          },
          "metadata": {
            "tags": []
          },
          "execution_count": 38
        },
        {
          "output_type": "execute_result",
          "data": {
            "text/plain": [
              "<matplotlib.image.AxesImage at 0x7f6abc1cebe0>"
            ]
          },
          "metadata": {
            "tags": []
          },
          "execution_count": 38
        },
        {
          "output_type": "display_data",
          "data": {
            "image/png": "[encoded data removed]",
            "text/plain": [
              "<Figure size 576x576 with 3 Axes>"
            ]
          },
          "metadata": {
            "tags": [],
            "needs_background": "light"
          }
        }
      ]
    },
    {
      "cell_type": "code",
      "metadata": {
        "id": "7Me-2CRbd6ag"
      },
      "source": [],
      "execution_count": null,
      "outputs": []
    }
  ]
}