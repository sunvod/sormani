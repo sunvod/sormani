{
  "nbformat": 4,
  "nbformat_minor": 0,
  "metadata": {
    "colab": {
      "provenance": [],
      "machine_shape": "hm",
      "include_colab_link": true
    },
    "kernelspec": {
      "display_name": "Python 3",
      "name": "python3"
    },
    "accelerator": "GPU"
  },
  "cells": [
    {
      "cell_type": "markdown",
      "metadata": {
        "id": "view-in-github",
        "colab_type": "text"
      },
      "source": [
        "<a href=\"https://colab.research.google.com/github/sunvod/sormani/blob/master/Progetto_v29_FaceDataset_NASNetMobile.ipynb\" target=\"_parent\"><img src=\"https://colab.research.google.com/assets/colab-badge.svg\" alt=\"Open In Colab\"/></a>"
      ]
    },
    {
      "cell_type": "code",
      "metadata": {
        "id": "G53pE1NmRI-0"
      },
      "source": [
        "MODEL_VERSION=29"
      ],
      "execution_count": null,
      "outputs": []
    },
    {
      "cell_type": "markdown",
      "metadata": {
        "id": "jHfUVQzPwnPG"
      },
      "source": [
        "cosine learning rate adaptation\n",
        "number ephoc = 100"
      ]
    },
    {
      "cell_type": "code",
      "metadata": {
        "id": "bGdM4-v51-Qy",
        "colab": {
          "base_uri": "https://localhost:8080/"
        },
        "outputId": "da712f90-00d4-4c28-9c91-83fa138ed8ea"
      },
      "source": [
        "from google.colab import drive\n",
        "drive.mount('/content/drive')"
      ],
      "execution_count": null,
      "outputs": [
        {
          "output_type": "stream",
          "text": [
            "Mounted at /content/drive\n"
          ],
          "name": "stdout"
        }
      ]
    },
    {
      "cell_type": "code",
      "metadata": {
        "id": "a42Y3CqHP7Bp"
      },
      "source": [
        "# Run this cell only if you are using Colab with Drive\n",
        "#!unzip '/content/drive/My Drive/artificial-neural-networks-and-deep-learning-2020.zip'\n",
        "#!unzip '/content/drive/My Drive/FaceDataset.zip'\n",
        "#!unzip '/content/drive/My Drive/FaceDatasetBW.zip'\n",
        "#!unzip '/content/drive/My Drive/FaceDatasetFull.zip'\n",
        "#!unzip '/content/drive/My Drive/FaceDatasetFullBW.zip'\n",
        "!unzip '/content/drive/My Drive/FaceDatasetBig.zip'\n",
        "#!unzip '/content/drive/My Drive/FaceDatasetBigBW.zip'\n",
        "#!unzip '/content/drive/My Drive/FaceDatasetExtra.zip'"
      ],
      "execution_count": null,
      "outputs": []
    },
    {
      "cell_type": "code",
      "metadata": {
        "id": "ciaPB3XAmYTN"
      },
      "source": [
        "import os\n",
        "import tensorflow as tf\n",
        "import numpy as np\n",
        "import io\n",
        "import matplotlib.pyplot as plt\n",
        "import PIL\n",
        "from sklearn.metrics import confusion_matrix, classification_report\n",
        "import seaborn as sns\n",
        "import pandas as pd\n",
        "from tensorflow import keras\n",
        "from tensorflow.keras.preprocessing.image import ImageDataGenerator\n",
        "\n",
        "SEED = 1234\n",
        "tf.random.set_seed(SEED)  \n",
        "np.random.seed(SEED)"
      ],
      "execution_count": null,
      "outputs": []
    },
    {
      "cell_type": "code",
      "metadata": {
        "id": "I7kf1R2qmGCo"
      },
      "source": [
        "#set global\n",
        "\n",
        "# Batch size\n",
        "BS = 32\n",
        "\n",
        "# img shape\n",
        "IMG_H = 224\n",
        "IMG_W = 224\n",
        "\n",
        "NB_CLASSES = 3\n",
        "N_EPOCH = 100\n",
        "LEARNING_RATE=5e-4\n",
        "\n",
        "# Get current working directory\n",
        "cwd = os.getcwd()\n",
        "\n",
        "DATASET = 'FaceDatasetBig'\n",
        "RESULT_DIR = '/content/drive/MyDrive/results/v' + str(MODEL_VERSION)\n",
        "\n",
        "MAX_WRONG_SAVED = 9\n",
        "\n",
        "!mkdir -p $RESULT_DIR"
      ],
      "execution_count": null,
      "outputs": []
    },
    {
      "cell_type": "code",
      "metadata": {
        "id": "RvNLbNmyf2VD"
      },
      "source": [
        "from tensorflow.keras.applications.nasnet import NASNetMobile\n",
        "from tensorflow.keras.applications.nasnet import preprocess_input, decode_predictions"
      ],
      "execution_count": null,
      "outputs": []
    },
    {
      "cell_type": "code",
      "metadata": {
        "id": "CHpUA9gL4zLw"
      },
      "source": [
        "apply_data_augmentation = False\n",
        "\n",
        "# Create training ImageDataGenerator object\n",
        "if apply_data_augmentation:\n",
        "    train_data_gen = ImageDataGenerator(horizontal_flip=True,\n",
        "                                        vertical_flip=True,\n",
        "                                        samplewise_center=True,\n",
        "                                        samplewise_std_normalization=True,\n",
        "                                        validation_split=0.15,\n",
        "                                        preprocessing_function=preprocess_input)\n",
        "else:\n",
        "    train_data_gen = ImageDataGenerator(validation_split=0.15,\n",
        "                                        preprocessing_function=preprocess_input)\n",
        "\n",
        "# Create validation and test ImageDataGenerator objects\n",
        "valid_data_gen = ImageDataGenerator(preprocessing_function=preprocess_input)"
      ],
      "execution_count": null,
      "outputs": []
    },
    {
      "cell_type": "code",
      "metadata": {
        "id": "LKnZ9Nrp06IW",
        "colab": {
          "base_uri": "https://localhost:8080/"
        },
        "outputId": "5251e54b-7b27-4b82-e061-ed803ea4752e"
      },
      "source": [
        "import json\n",
        "dataset_dir = os.path.join(cwd, DATASET)\n",
        "\n",
        "with open(os.path.join(cwd, DATASET, 'train_gt.json')) as f:\n",
        "  d = json.load(f)\n",
        "\n",
        "traindf = pd.DataFrame(d.items())\n",
        "traindf.rename(columns={0: 'filename', 1: 'class'}, inplace=True)\n",
        "traindf['class'] = traindf['class'].astype(str)\n",
        "\n",
        "\n",
        "print(traindf)\n",
        "\n",
        "#traindf = traindf.sort_values('filenames')"
      ],
      "execution_count": null,
      "outputs": [
        {
          "output_type": "stream",
          "text": [
            "       filename class\n",
            "0     14985.jpg     0\n",
            "1     13358.jpg     0\n",
            "2     10210.jpg     0\n",
            "3     18202.jpg     0\n",
            "4     14962.jpg     0\n",
            "...         ...   ...\n",
            "5609  14383.jpg     2\n",
            "5610  11787.jpg     2\n",
            "5611  15770.jpg     2\n",
            "5612  10934.jpg     2\n",
            "5613  10519.jpg     2\n",
            "\n",
            "[5614 rows x 2 columns]\n"
          ],
          "name": "stdout"
        }
      ]
    },
    {
      "cell_type": "code",
      "metadata": {
        "id": "O_hJ4t7U7oYn",
        "colab": {
          "base_uri": "https://localhost:8080/"
        },
        "outputId": "4d71adb1-78cd-457b-8ba2-475522a7f425"
      },
      "source": [
        "# Create generator to read images from dataset directory for testing\n",
        "# ------------------------------------------------------------------\n",
        "dataset_dir = os.path.join(cwd, DATASET)\n",
        "\n",
        "# Training\n",
        "training_dir = os.path.join(dataset_dir, 'training')\n",
        "train_gen = train_data_gen.flow_from_dataframe(traindf,\n",
        "                                               batch_size=BS,\n",
        "                                               directory=training_dir,\n",
        "                                               x_col='filename',\n",
        "                                               y_col=\"class\",\n",
        "                                               target_size=(IMG_H, IMG_W),\n",
        "                                               color_mode=\"rgb\",\n",
        "                                               classes=None,\n",
        "                                               class_mode=\"categorical\",\n",
        "                                               shuffle=True,\n",
        "                                               seed=SEED,\n",
        "                                               subset=\"training\") "
      ],
      "execution_count": null,
      "outputs": [
        {
          "output_type": "stream",
          "text": [
            "Found 4772 validated image filenames belonging to 3 classes.\n"
          ],
          "name": "stdout"
        }
      ]
    },
    {
      "cell_type": "code",
      "metadata": {
        "id": "-_lII_74p01-",
        "colab": {
          "base_uri": "https://localhost:8080/"
        },
        "outputId": "0b8f43fa-82d7-400a-f87a-e818fe65fe5a"
      },
      "source": [
        "# Create generator to read images from dataset directory for validation\n",
        "# ---------------------------------------------------------------------\n",
        "dataset_dir = os.path.join(cwd, DATASET)\n",
        "\n",
        "# Training\n",
        "training_dir = os.path.join(dataset_dir, 'training')\n",
        "valid_gen = train_data_gen.flow_from_dataframe(traindf,\n",
        "                                               batch_size=BS,\n",
        "                                               directory=training_dir,\n",
        "                                               x_col='filename',\n",
        "                                               y_col=\"class\",\n",
        "                                               weight_col=None,\n",
        "                                               target_size=(IMG_H, IMG_W),\n",
        "                                               color_mode=\"rgb\",\n",
        "                                               classes=None,\n",
        "                                               class_mode=\"categorical\",\n",
        "                                               shuffle=False,\n",
        "                                               seed=SEED,\n",
        "                                               subset=\"validation\")"
      ],
      "execution_count": null,
      "outputs": [
        {
          "output_type": "stream",
          "text": [
            "Found 842 validated image filenames belonging to 3 classes.\n"
          ],
          "name": "stdout"
        }
      ]
    },
    {
      "cell_type": "code",
      "metadata": {
        "id": "IpoyH-lVDaoN",
        "colab": {
          "base_uri": "https://localhost:8080/"
        },
        "outputId": "5f2e5754-2a4b-48b4-9946-2d0fe838700c"
      },
      "source": [
        "# Create generators to read images from test directory\n",
        "# -------------------------------------------------------\n",
        "dataset_dir = os.path.join(cwd, DATASET)\n",
        "\n",
        "test_data_gen = ImageDataGenerator(rescale=1./255)\n",
        "test_gen=test_data_gen.flow_from_directory(directory=dataset_dir,\n",
        "                                          target_size=(IMG_H, IMG_W),\n",
        "                                          color_mode=\"rgb\",\n",
        "                                          classes={'test'},\n",
        "                                          class_mode=\"categorical\",\n",
        "                                          batch_size=1,\n",
        "                                          shuffle=False,\n",
        "                                          seed=SEED)"
      ],
      "execution_count": null,
      "outputs": [
        {
          "output_type": "stream",
          "text": [
            "Found 450 images belonging to 1 classes.\n"
          ],
          "name": "stdout"
        }
      ]
    },
    {
      "cell_type": "code",
      "metadata": {
        "id": "0IbSHeEx9C4i"
      },
      "source": [
        "# Create Dataset objects\n",
        "# ----------------------\n",
        "\n",
        "# Training\n",
        "train_dataset = tf.data.Dataset.from_generator(lambda: train_gen,\n",
        "                                               output_types=(tf.float32, tf.float32),\n",
        "                                               output_shapes=([None, IMG_H, IMG_W, 3], [None, NB_CLASSES]))\n",
        "train_dataset = train_dataset.repeat()\n",
        "\n",
        "# Validation\n",
        "valid_dataset = tf.data.Dataset.from_generator(lambda: valid_gen, \n",
        "                                               output_types=(tf.float32, tf.float32),\n",
        "                                               output_shapes=([None, IMG_H, IMG_W, 3], [None, NB_CLASSES]))\n",
        "valid_dataset = valid_dataset.repeat()\n"
      ],
      "execution_count": null,
      "outputs": []
    },
    {
      "cell_type": "code",
      "metadata": {
        "id": "Z9loPQ9XuMZZ"
      },
      "source": [
        "#for loading a saved model\n",
        "\n",
        "def load_model(wrong):\n",
        "  from keras.models import model_from_json\n",
        "  # load json and create model\n",
        "  json_file = open(os.path.join(RESULT_DIR, 'model_v' + str(MODEL_VERSION) + '_' + str(wrong) + \".json\"), 'r')\n",
        "  loaded_model_json = json_file.read()\n",
        "  json_file.close()\n",
        "  model = model_from_json(loaded_model_json)\n",
        "  # load weights into new model\n",
        "  model.load_weights(os.path.join(RESULT_DIR,  'model_v' + str(MODEL_VERSION) + '_' + str(wrong) + \".h5\"))\n",
        "  print(\"Loaded model from disk\")\n",
        "  return model"
      ],
      "execution_count": null,
      "outputs": []
    },
    {
      "cell_type": "code",
      "metadata": {
        "id": "JNb5mYk7wFLv"
      },
      "source": [
        "#model = load_model(8)"
      ],
      "execution_count": null,
      "outputs": []
    },
    {
      "cell_type": "markdown",
      "metadata": {
        "id": "7S6jCYoIcbs0"
      },
      "source": [
        "RESTART FROM HERE"
      ]
    },
    {
      "cell_type": "code",
      "metadata": {
        "id": "bUDipFiljSA7"
      },
      "source": [
        "net = tf.keras.applications.NASNetMobile(weights='imagenet',\n",
        "                                        include_top=False,\n",
        "                                        input_shape=(IMG_H, IMG_W, 3))"
      ],
      "execution_count": null,
      "outputs": []
    },
    {
      "cell_type": "code",
      "metadata": {
        "id": "teID3ogPxzFd"
      },
      "source": [
        "#net.summary()"
      ],
      "execution_count": null,
      "outputs": []
    },
    {
      "cell_type": "code",
      "metadata": {
        "id": "WoVMOJK2sHSR"
      },
      "source": [
        "model = tf.keras.Sequential()\n",
        "model.add(net)\n",
        "model.add(tf.keras.layers.Flatten())\n",
        "model.add(tf.keras.layers.Dense(units=1056, activation='relu')) # 1056\n",
        "model.add(tf.keras.layers.Dense(units=256, activation='relu')) \n",
        "model.add(tf.keras.layers.Dense(units=NB_CLASSES, activation='softmax'))"
      ],
      "execution_count": null,
      "outputs": []
    },
    {
      "cell_type": "code",
      "metadata": {
        "id": "861CrLRO-Q6i",
        "colab": {
          "base_uri": "https://localhost:8080/"
        },
        "outputId": "e6041b8e-2c78-4753-b4b8-01d7b541495d"
      },
      "source": [
        "# Visualize created model as a table\n",
        "model.summary()\n",
        "\n",
        "# Visualize initialized weights\n",
        "#model.weights"
      ],
      "execution_count": null,
      "outputs": [
        {
          "output_type": "stream",
          "text": [
            "Model: \"sequential_4\"\n",
            "_________________________________________________________________\n",
            "Layer (type)                 Output Shape              Param #   \n",
            "=================================================================\n",
            "NASNet (Functional)          (None, 7, 7, 1056)        4269716   \n",
            "_________________________________________________________________\n",
            "flatten_4 (Flatten)          (None, 51744)             0         \n",
            "_________________________________________________________________\n",
            "dense_12 (Dense)             (None, 1056)              54642720  \n",
            "_________________________________________________________________\n",
            "dense_13 (Dense)             (None, 256)               270592    \n",
            "_________________________________________________________________\n",
            "dense_14 (Dense)             (None, 3)                 771       \n",
            "=================================================================\n",
            "Total params: 59,183,799\n",
            "Trainable params: 59,147,061\n",
            "Non-trainable params: 36,738\n",
            "_________________________________________________________________\n"
          ],
          "name": "stdout"
        }
      ]
    },
    {
      "cell_type": "code",
      "metadata": {
        "id": "k6fX2MeR-U48"
      },
      "source": [
        "# Optimization params\n",
        "\n",
        "loss = tf.keras.losses.CategoricalCrossentropy()\n",
        "optimizer = tf.keras.optimizers.Adam(learning_rate=LEARNING_RATE)\n",
        "metrics = ['accuracy']"
      ],
      "execution_count": null,
      "outputs": []
    },
    {
      "cell_type": "code",
      "metadata": {
        "id": "I3tGqfwz0wZy"
      },
      "source": [
        "model.compile(optimizer=optimizer, loss=loss, metrics=metrics)"
      ],
      "execution_count": null,
      "outputs": []
    },
    {
      "cell_type": "code",
      "metadata": {
        "id": "x6c_VjBUuHwT"
      },
      "source": [
        "# %load_ext tensorboard\n",
        "# %tensorboard --logdir /content/drive/My\\ Drive/keras_models/"
      ],
      "execution_count": null,
      "outputs": []
    },
    {
      "cell_type": "code",
      "metadata": {
        "id": "ncHC-rzO0oTm"
      },
      "source": [
        "#import correct predictions\n",
        "import csv\n",
        "reader = csv.reader(open('/content/drive/MyDrive/results/results_correct.csv', 'r'))\n",
        "correct = {}\n",
        "for row in reader:\n",
        "   k, v = row\n",
        "   correct[k] = v\n",
        "  "
      ],
      "execution_count": null,
      "outputs": []
    },
    {
      "cell_type": "code",
      "metadata": {
        "colab": {
          "base_uri": "https://localhost:8080/"
        },
        "id": "IJXUZeMi0hFc",
        "outputId": "b4fd4941-5981-4367-851b-9c6f894cf7c7"
      },
      "source": [
        "directory = '/content/' + DATASET + '/test/'\n",
        "import os\n",
        "import cv2\n",
        "\n",
        "i = 0\n",
        "imgs = None\n",
        "filenames_list = []\n",
        "for file in os.listdir(directory):\n",
        "  filename = os.fsdecode(file)\n",
        "  filenames_list.append(filename)\n",
        "  img = cv2.imread(directory + filename)\n",
        "  img_cvt = cv2.cvtColor(img, cv2.COLOR_BGR2RGB)\n",
        "  img_cvt = img_cvt.astype(np.uint8)\n",
        "  img_cvt = cv2.resize(img_cvt, (IMG_W, IMG_H))\n",
        "  img_cvt = np.expand_dims(img_cvt, axis=0)\n",
        "  if(i == 0):\n",
        "    imgs = img_cvt\n",
        "  else:\n",
        "    imgs = np.concatenate((imgs, img_cvt), axis=0)\n",
        "  i += 1\n",
        "\n",
        "imgs = imgs / 255.0 \n",
        "\n",
        "print(imgs.size)\n",
        "print(imgs.shape)\n",
        "print(len(filenames_list))"
      ],
      "execution_count": null,
      "outputs": [
        {
          "output_type": "stream",
          "text": [
            "67737600\n",
            "(450, 224, 224, 3)\n",
            "450\n"
          ],
          "name": "stdout"
        }
      ]
    },
    {
      "cell_type": "code",
      "metadata": {
        "id": "-y-uW52z0dhN"
      },
      "source": [
        "import os\n",
        "from datetime import datetime\n",
        "\n",
        "def create_csv(results, results_dir='./', wrong=''):\n",
        "\n",
        "    csv_fname = 'results_'\n",
        "    csv_fname += datetime.now().strftime('%b%d_%H-%M-%S - ') + wrong + '.csv'\n",
        "\n",
        "    with open(os.path.join(results_dir, csv_fname), 'w') as f:\n",
        "\n",
        "        f.write('Id,Category\\n')\n",
        "\n",
        "        for key, value in results.items():\n",
        "            f.write(key + ',' + str(value) + '\\n')"
      ],
      "execution_count": null,
      "outputs": []
    },
    {
      "cell_type": "code",
      "metadata": {
        "id": "hBrdnpumIQaX"
      },
      "source": [
        "def save_model(filename, results_dir='./'):\n",
        "  model_json = model.to_json()\n",
        "  try:\n",
        "    os.remove(os.path.join(results_dir, filename + \".json\"))\n",
        "  except OSError:\n",
        "    pass\n",
        "  with open(os.path.join(results_dir, filename + \".json\"), \"w\") as json_file:\n",
        "    json_file.write(model_json)\n",
        "  try:\n",
        "    os.remove(os.path.join(results_dir, filename + \".h5\"))\n",
        "  except OSError:\n",
        "    pass\n",
        "  model.save_weights(os.path.join(results_dir, filename + \".h5\"))\n",
        "  print(\"Saved model to disk\")"
      ],
      "execution_count": null,
      "outputs": []
    },
    {
      "cell_type": "code",
      "metadata": {
        "scrolled": true,
        "id": "dcY5pIOk0Ot0"
      },
      "source": [
        "import os\n",
        "from datetime import datetime\n",
        "\n",
        "# from tensorflow.compat.v1 import ConfigProto\n",
        "# from tensorflow.compat.v1 import InteractiveSession\n",
        "\n",
        "# config = ConfigProto()\n",
        "# config.gpu_options.allow_growth = True\n",
        "# session = InteractiveSession(config=config)\n",
        "\n",
        "CWD = '/content/drive/My Drive/keras_models'\n",
        "\n",
        "if not os.path.exists(CWD):\n",
        "    os.makedirs(exps_dir)\n",
        "\n",
        "exp_dir = os.path.join(CWD, 'CNN_n_' + str(datetime.now().strftime('%b%d_%H-%M-%S')))\n",
        "if not os.path.exists(exp_dir):\n",
        "    os.makedirs(exp_dir)\n",
        "    \n",
        "callbacks = []\n",
        "\n",
        "# Model checkpoint\n",
        "\n",
        "ckpt_dir = os.path.join(CWD, 'ckpts')\n",
        "if not os.path.exists(ckpt_dir):\n",
        "    os.makedirs(ckpt_dir)\n",
        "\n",
        "# Save best weight\n",
        "ckpt_callback = tf.keras.callbacks.ModelCheckpoint(filepath=os.path.join(CWD, 'cp_{epoch:02d}-{val_loss:.2f}.ckpt'),\n",
        "                                                   save_weights_only=True,\n",
        "                                                   monitor='val_loss',\n",
        "                                                   mode='min',\n",
        "                                                   save_best_only=True)\n",
        "\n",
        "\n",
        "# Visualize Learning on Tensorboard\n",
        "# ---------------------------------\n",
        "tb_dir = os.path.join(exp_dir, 'tb_logs')\n",
        "if not os.path.exists(tb_dir):\n",
        "    os.makedirs(tb_dir)\n",
        "    \n",
        "# By default shows losses and metrics for both training and validation\n",
        "tb_callback = tf.keras.callbacks.TensorBoard(log_dir=tb_dir,\n",
        "                                             profile_batch=0,\n",
        "                                             histogram_freq=1)  # if 1 shows weights histograms\n",
        "callbacks.append(tb_callback)\n",
        "\n",
        "# Early Stopping\n",
        "# --------------\n",
        "early_stop = False\n",
        "if early_stop:\n",
        "    es_callback = tf.keras.callbacks.EarlyStopping(monitor='val_loss',\n",
        "                                                   patience=10,\n",
        "                                                   verbose=1)\n",
        "    callbacks.append(es_callback)\n",
        "\n",
        "# Reduce On Plateau\n",
        "reduce_on_plateau = True\n",
        "if reduce_on_plateau:\n",
        "  rp_callback = tf.keras.callbacks.ReduceLROnPlateau(monitor='val_loss',\n",
        "                                                     factor=0.3,\n",
        "                                                     patience=5,\n",
        "                                                     min_lr=0.000145,\n",
        "                                                     verbose=1)\n",
        "  #callbacks.append(rp_callback)\n",
        "\n"
      ],
      "execution_count": null,
      "outputs": []
    },
    {
      "cell_type": "code",
      "metadata": {
        "id": "kPqTsP0uV5Wj"
      },
      "source": [
        "import math\n",
        "\n",
        "def scheduler(epoch, lr):\n",
        "  if epoch < 0:\n",
        "    return lr\n",
        "  else:\n",
        "    new_lr = 0.5 * LEARNING_RATE * (1 + math.cos (epoch * math.pi / N_EPOCH))\n",
        "  print(\"New learning rate: \", new_lr)\n",
        "  return new_lr\n",
        "\n",
        "cosine_callback = tf.keras.callbacks.LearningRateScheduler(scheduler)\n",
        "\n",
        "callbacks.append(cosine_callback)"
      ],
      "execution_count": null,
      "outputs": []
    },
    {
      "cell_type": "code",
      "metadata": {
        "id": "EENSRDinJKTV"
      },
      "source": [
        "import os\n",
        "from datetime import datetime\n",
        "\n",
        "class CustomCallback(keras.callbacks.Callback):\n",
        "\n",
        "    def on_epoch_end(self, epoch, logs=None):\n",
        "      predict = model.predict(x=imgs,\n",
        "                              steps=len(test_gen),\n",
        "                              verbose=1)\n",
        "      i = 0\n",
        "      n = 1\n",
        "      results = {}\n",
        "      wrong = 0\n",
        "      for el in predict:\n",
        "        filename = filenames_list[i]\n",
        "        i += 1\n",
        "        result = el.argmax()\n",
        "        if int(correct[filename]) != result:\n",
        "          wrong += 1\n",
        "        results[filename] = result\n",
        "      print('Wrong predictions: ', wrong)\n",
        "      if(wrong <= MAX_WRONG_SAVED):\n",
        "        create_csv(results, RESULT_DIR, wrong=str(wrong))\n",
        "        save_model('model_v' + str(MODEL_VERSION) + '_' + str(wrong) + '-' + str(datetime.now().strftime('%b%d_%H-%M-%S')), results_dir=RESULT_DIR)\n",
        "  \n",
        "\n",
        "callbacks.append(CustomCallback())"
      ],
      "execution_count": null,
      "outputs": []
    },
    {
      "cell_type": "code",
      "metadata": {
        "id": "ZTDem0B5nf2L",
        "colab": {
          "base_uri": "https://localhost:8080/"
        },
        "outputId": "7466b550-bfc7-425d-dbe0-f3a4cc539a00"
      },
      "source": [
        "history = model.fit(x=train_dataset,\n",
        "                    epochs=N_EPOCH, \n",
        "                    steps_per_epoch=len(train_gen),\n",
        "                    validation_data=valid_dataset,\n",
        "                    validation_steps=len(valid_gen), \n",
        "                    callbacks=callbacks)\n"
      ],
      "execution_count": null,
      "outputs": [
        {
          "output_type": "stream",
          "text": [
            "New learning rate:  0.0005\n",
            "Epoch 1/100\n",
            "450/450 [==============================] - 9s 20ms/step\n",
            "Wrong predictions:  240\n",
            "150/150 [==============================] - 63s 419ms/step - loss: 0.7427 - accuracy: 0.8185 - val_loss: 5.0636 - val_accuracy: 0.3789\n",
            "New learning rate:  0.0004998766400914329\n",
            "Epoch 2/100\n",
            "450/450 [==============================] - 9s 20ms/step\n",
            "Wrong predictions:  160\n",
            "150/150 [==============================] - 56s 374ms/step - loss: 0.1493 - accuracy: 0.9466 - val_loss: 6.8139 - val_accuracy: 0.3420\n",
            "New learning rate:  0.0004995066821070679\n",
            "Epoch 3/100\n",
            "450/450 [==============================] - 9s 21ms/step\n",
            "Wrong predictions:  194\n",
            "150/150 [==============================] - 57s 380ms/step - loss: 0.1028 - accuracy: 0.9675 - val_loss: 4.0681 - val_accuracy: 0.3979\n",
            "New learning rate:  0.00049889049115077\n",
            "Epoch 4/100\n",
            "450/450 [==============================] - 9s 21ms/step\n",
            "Wrong predictions:  165\n",
            "150/150 [==============================] - 57s 378ms/step - loss: 0.1048 - accuracy: 0.9652 - val_loss: 3.9241 - val_accuracy: 0.5143\n",
            "New learning rate:  0.0004980286753286195\n",
            "Epoch 5/100\n",
            "450/450 [==============================] - 9s 20ms/step\n",
            "Wrong predictions:  51\n",
            "150/150 [==============================] - 57s 377ms/step - loss: 0.0856 - accuracy: 0.9690 - val_loss: 1.7450 - val_accuracy: 0.7933\n",
            "New learning rate:  0.0004969220851487844\n",
            "Epoch 6/100\n",
            "450/450 [==============================] - 9s 20ms/step\n",
            "Wrong predictions:  137\n",
            "150/150 [==============================] - 57s 378ms/step - loss: 0.0653 - accuracy: 0.9784 - val_loss: 13.4450 - val_accuracy: 0.3278\n",
            "New learning rate:  0.0004955718126821722\n",
            "Epoch 7/100\n",
            "450/450 [==============================] - 9s 20ms/step\n",
            "Wrong predictions:  77\n",
            "150/150 [==============================] - 57s 377ms/step - loss: 0.0474 - accuracy: 0.9868 - val_loss: 2.5583 - val_accuracy: 0.7268\n",
            "New learning rate:  0.0004939791904846869\n",
            "Epoch 8/100\n",
            "450/450 [==============================] - 9s 20ms/step\n",
            "Wrong predictions:  143\n",
            "150/150 [==============================] - 56s 376ms/step - loss: 0.0498 - accuracy: 0.9853 - val_loss: 9.6920 - val_accuracy: 0.1615\n",
            "New learning rate:  0.0004921457902821578\n",
            "Epoch 9/100\n",
            "450/450 [==============================] - 9s 20ms/step\n",
            "Wrong predictions:  141\n",
            "150/150 [==============================] - 56s 376ms/step - loss: 0.0286 - accuracy: 0.9906 - val_loss: 6.7802 - val_accuracy: 0.3456\n",
            "New learning rate:  0.0004900734214192358\n",
            "Epoch 10/100\n",
            "450/450 [==============================] - 9s 20ms/step\n",
            "Wrong predictions:  104\n",
            "150/150 [==============================] - 57s 377ms/step - loss: 0.0179 - accuracy: 0.9946 - val_loss: 5.0815 - val_accuracy: 0.6532\n",
            "New learning rate:  0.0004877641290737884\n",
            "Epoch 11/100\n",
            "450/450 [==============================] - 9s 20ms/step\n",
            "Wrong predictions:  47\n",
            "150/150 [==============================] - 56s 374ms/step - loss: 0.0473 - accuracy: 0.9864 - val_loss: 0.6206 - val_accuracy: 0.9299\n",
            "New learning rate:  0.0004852201922385564\n",
            "Epoch 12/100\n",
            "450/450 [==============================] - 9s 19ms/step\n",
            "Wrong predictions:  83\n",
            "150/150 [==============================] - 56s 372ms/step - loss: 0.0472 - accuracy: 0.9830 - val_loss: 5.1857 - val_accuracy: 0.4169\n",
            "New learning rate:  0.00048244412147206283\n",
            "Epoch 13/100\n",
            "450/450 [==============================] - 9s 20ms/step\n",
            "Wrong predictions:  204\n",
            "150/150 [==============================] - 56s 373ms/step - loss: 0.0808 - accuracy: 0.9755 - val_loss: 13.7800 - val_accuracy: 0.0083\n",
            "New learning rate:  0.00047943865642099525\n",
            "Epoch 14/100\n",
            "450/450 [==============================] - 9s 20ms/step\n",
            "Wrong predictions:  193\n",
            "150/150 [==============================] - 56s 371ms/step - loss: 0.0642 - accuracy: 0.9809 - val_loss: 28.1554 - val_accuracy: 0.0356\n",
            "New learning rate:  0.0004762067631165049\n",
            "Epoch 15/100\n",
            "450/450 [==============================] - 9s 20ms/step\n",
            "Wrong predictions:  145\n",
            "150/150 [==============================] - 56s 374ms/step - loss: 0.0180 - accuracy: 0.9952 - val_loss: 14.1844 - val_accuracy: 0.1235\n",
            "New learning rate:  0.00047275163104709196\n",
            "Epoch 16/100\n",
            "450/450 [==============================] - 9s 20ms/step\n",
            "Wrong predictions:  60\n",
            "150/150 [==============================] - 56s 374ms/step - loss: 0.0204 - accuracy: 0.9931 - val_loss: 4.0982 - val_accuracy: 0.6568\n",
            "New learning rate:  0.0004690766700109659\n",
            "Epoch 17/100\n",
            "450/450 [==============================] - 9s 20ms/step\n",
            "Wrong predictions:  51\n",
            "150/150 [==============================] - 56s 372ms/step - loss: 0.0148 - accuracy: 0.9956 - val_loss: 2.9915 - val_accuracy: 0.7957\n",
            "New learning rate:  0.0004651855067509859\n",
            "Epoch 18/100\n",
            "450/450 [==============================] - 9s 19ms/step\n",
            "Wrong predictions:  64\n",
            "150/150 [==============================] - 55s 369ms/step - loss: 0.0177 - accuracy: 0.9960 - val_loss: 1.7614 - val_accuracy: 0.8230\n",
            "New learning rate:  0.00046108198137550377\n",
            "Epoch 19/100\n",
            "450/450 [==============================] - 9s 20ms/step\n",
            "Wrong predictions:  62\n",
            "150/150 [==============================] - 56s 372ms/step - loss: 0.0237 - accuracy: 0.9927 - val_loss: 5.8913 - val_accuracy: 0.6888\n",
            "New learning rate:  0.00045677014356864043\n",
            "Epoch 20/100\n",
            "450/450 [==============================] - 9s 20ms/step\n",
            "Wrong predictions:  118\n",
            "150/150 [==============================] - 56s 374ms/step - loss: 0.0226 - accuracy: 0.9927 - val_loss: 10.8437 - val_accuracy: 0.3456\n",
            "New learning rate:  0.0004522542485937369\n",
            "Epoch 21/100\n",
            "450/450 [==============================] - 9s 20ms/step\n",
            "Wrong predictions:  100\n",
            "150/150 [==============================] - 56s 373ms/step - loss: 0.0464 - accuracy: 0.9855 - val_loss: 2.9151 - val_accuracy: 0.6615\n",
            "New learning rate:  0.00044753875309392255\n",
            "Epoch 22/100\n",
            "450/450 [==============================] - 9s 20ms/step\n",
            "Wrong predictions:  42\n",
            "150/150 [==============================] - 56s 373ms/step - loss: 0.0242 - accuracy: 0.9935 - val_loss: 3.1108 - val_accuracy: 0.7352\n",
            "New learning rate:  0.0004426283106939473\n",
            "Epoch 23/100\n",
            "450/450 [==============================] - 9s 20ms/step\n",
            "Wrong predictions:  73\n",
            "150/150 [==============================] - 56s 375ms/step - loss: 0.0117 - accuracy: 0.9975 - val_loss: 8.6251 - val_accuracy: 0.4406\n",
            "New learning rate:  0.0004375277674076149\n",
            "Epoch 24/100\n",
            "450/450 [==============================] - 9s 20ms/step\n",
            "Wrong predictions:  39\n",
            "150/150 [==============================] - 56s 374ms/step - loss: 0.0348 - accuracy: 0.9927 - val_loss: 0.3269 - val_accuracy: 0.9608\n",
            "New learning rate:  0.00043224215685535287\n",
            "Epoch 25/100\n",
            "450/450 [==============================] - 9s 20ms/step\n",
            "Wrong predictions:  139\n",
            "150/150 [==============================] - 57s 378ms/step - loss: 0.0244 - accuracy: 0.9922 - val_loss: 1.1111 - val_accuracy: 0.8242\n",
            "New learning rate:  0.00042677669529663686\n",
            "Epoch 26/100\n",
            "450/450 [==============================] - 9s 20ms/step\n",
            "Wrong predictions:  179\n",
            "150/150 [==============================] - 56s 375ms/step - loss: 0.0211 - accuracy: 0.9941 - val_loss: 11.6039 - val_accuracy: 0.5178\n",
            "New learning rate:  0.0004211367764821722\n",
            "Epoch 27/100\n",
            "450/450 [==============================] - 9s 20ms/step\n",
            "Wrong predictions:  127\n",
            "150/150 [==============================] - 56s 376ms/step - loss: 0.0363 - accuracy: 0.9887 - val_loss: 5.8512 - val_accuracy: 0.7589\n",
            "New learning rate:  0.00041532796633091297\n",
            "Epoch 28/100\n",
            "450/450 [==============================] - 9s 19ms/step\n",
            "Wrong predictions:  247\n",
            "150/150 [==============================] - 56s 371ms/step - loss: 0.0995 - accuracy: 0.9761 - val_loss: 17.0848 - val_accuracy: 0.1366\n",
            "New learning rate:  0.00040935599743717243\n",
            "Epoch 29/100\n",
            "450/450 [==============================] - 9s 19ms/step\n",
            "Wrong predictions:  150\n",
            "150/150 [==============================] - 56s 372ms/step - loss: 0.0417 - accuracy: 0.9870 - val_loss: 0.8909 - val_accuracy: 0.6710\n",
            "New learning rate:  0.00040322676341324415\n",
            "Epoch 30/100\n",
            "450/450 [==============================] - 9s 19ms/step\n",
            "Wrong predictions:  117\n",
            "150/150 [==============================] - 56s 371ms/step - loss: 0.0137 - accuracy: 0.9954 - val_loss: 0.7795 - val_accuracy: 0.8919\n",
            "New learning rate:  0.00039694631307311834\n",
            "Epoch 31/100\n",
            "450/450 [==============================] - 9s 19ms/step\n",
            "Wrong predictions:  193\n",
            "150/150 [==============================] - 56s 371ms/step - loss: 0.0072 - accuracy: 0.9979 - val_loss: 2.9918 - val_accuracy: 0.5689\n",
            "New learning rate:  0.0003905208444630327\n",
            "Epoch 32/100\n",
            "450/450 [==============================] - 9s 20ms/step\n",
            "Wrong predictions:  62\n",
            "150/150 [==============================] - 56s 372ms/step - loss: 0.0085 - accuracy: 0.9975 - val_loss: 0.3564 - val_accuracy: 0.9038\n",
            "New learning rate:  0.00038395669874474915\n",
            "Epoch 33/100\n",
            "450/450 [==============================] - 9s 20ms/step\n",
            "Wrong predictions:  32\n",
            "150/150 [==============================] - 56s 372ms/step - loss: 0.0121 - accuracy: 0.9966 - val_loss: 0.3760 - val_accuracy: 0.9335\n",
            "New learning rate:  0.00037726035393759286\n",
            "Epoch 34/100\n",
            "450/450 [==============================] - 9s 20ms/step\n",
            "Wrong predictions:  60\n",
            "150/150 [==============================] - 56s 372ms/step - loss: 0.0160 - accuracy: 0.9969 - val_loss: 1.6633 - val_accuracy: 0.6140\n",
            "New learning rate:  0.0003704384185254288\n",
            "Epoch 35/100\n",
            "450/450 [==============================] - 9s 19ms/step\n",
            "Wrong predictions:  50\n",
            "150/150 [==============================] - 56s 371ms/step - loss: 0.0104 - accuracy: 0.9962 - val_loss: 2.1076 - val_accuracy: 0.5808\n",
            "New learning rate:  0.00036349762493488667\n",
            "Epoch 36/100\n",
            "450/450 [==============================] - 9s 20ms/step\n",
            "Wrong predictions:  23\n",
            "150/150 [==============================] - 56s 376ms/step - loss: 0.0114 - accuracy: 0.9977 - val_loss: 0.1423 - val_accuracy: 0.9703\n",
            "New learning rate:  0.0003564448228912682\n",
            "Epoch 37/100\n",
            "450/450 [==============================] - 9s 20ms/step\n",
            "Wrong predictions:  27\n",
            "150/150 [==============================] - 56s 373ms/step - loss: 0.0147 - accuracy: 0.9969 - val_loss: 0.9473 - val_accuracy: 0.8242\n",
            "New learning rate:  0.00034928697265869515\n",
            "Epoch 38/100\n",
            "450/450 [==============================] - 9s 20ms/step\n",
            "Wrong predictions:  15\n",
            "150/150 [==============================] - 56s 374ms/step - loss: 0.0230 - accuracy: 0.9925 - val_loss: 0.3650 - val_accuracy: 0.9572\n",
            "New learning rate:  0.00034203113817116957\n",
            "Epoch 39/100\n",
            "450/450 [==============================] - 9s 20ms/step\n",
            "Wrong predictions:  16\n",
            "150/150 [==============================] - 56s 373ms/step - loss: 0.0088 - accuracy: 0.9979 - val_loss: 0.6258 - val_accuracy: 0.9204\n",
            "New learning rate:  0.0003346844800613229\n",
            "Epoch 40/100\n",
            "450/450 [==============================] - 9s 20ms/step\n",
            "Wrong predictions:  14\n",
            "150/150 [==============================] - 56s 373ms/step - loss: 0.0035 - accuracy: 0.9990 - val_loss: 0.0982 - val_accuracy: 0.9881\n",
            "New learning rate:  0.00032725424859373687\n",
            "Epoch 41/100\n",
            "450/450 [==============================] - 9s 20ms/step\n",
            "Wrong predictions:  10\n",
            "150/150 [==============================] - 56s 373ms/step - loss: 4.5260e-04 - accuracy: 1.0000 - val_loss: 0.1020 - val_accuracy: 0.9869\n",
            "New learning rate:  0.00031974777650980735\n",
            "Epoch 42/100\n",
            "450/450 [==============================] - 9s 19ms/step\n",
            "Wrong predictions:  8\n",
            "Saved model to disk\n",
            "150/150 [==============================] - 57s 383ms/step - loss: 0.0015 - accuracy: 0.9996 - val_loss: 0.0910 - val_accuracy: 0.9893\n",
            "New learning rate:  0.0003121724717912137\n",
            "Epoch 43/100\n",
            "450/450 [==============================] - 9s 19ms/step\n",
            "Wrong predictions:  10\n",
            "150/150 [==============================] - 56s 374ms/step - loss: 6.4368e-04 - accuracy: 0.9998 - val_loss: 0.0817 - val_accuracy: 0.9905\n",
            "New learning rate:  0.0003045358103491357\n",
            "Epoch 44/100\n",
            "450/450 [==============================] - 9s 20ms/step\n",
            "Wrong predictions:  11\n",
            "150/150 [==============================] - 56s 374ms/step - loss: 0.0022 - accuracy: 0.9994 - val_loss: 0.1310 - val_accuracy: 0.9893\n",
            "New learning rate:  0.0002968453286464312\n",
            "Epoch 45/100\n",
            "450/450 [==============================] - 9s 19ms/step\n",
            "Wrong predictions:  11\n",
            "150/150 [==============================] - 56s 372ms/step - loss: 5.4033e-04 - accuracy: 1.0000 - val_loss: 0.1200 - val_accuracy: 0.9905\n",
            "New learning rate:  0.00028910861626005774\n",
            "Epoch 46/100\n",
            "450/450 [==============================] - 9s 19ms/step\n",
            "Wrong predictions:  11\n",
            "150/150 [==============================] - 56s 374ms/step - loss: 0.0013 - accuracy: 0.9996 - val_loss: 0.1106 - val_accuracy: 0.9917\n",
            "New learning rate:  0.0002813333083910761\n",
            "Epoch 47/100\n",
            "450/450 [==============================] - 9s 19ms/step\n",
            "Wrong predictions:  10\n",
            "150/150 [==============================] - 56s 372ms/step - loss: 4.2738e-04 - accuracy: 1.0000 - val_loss: 0.0778 - val_accuracy: 0.9941\n",
            "New learning rate:  0.00027352707832962856\n",
            "Epoch 48/100\n",
            "450/450 [==============================] - 9s 19ms/step\n",
            "Wrong predictions:  10\n",
            "150/150 [==============================] - 56s 372ms/step - loss: 0.0012 - accuracy: 0.9996 - val_loss: 0.0716 - val_accuracy: 0.9952\n",
            "New learning rate:  0.0002656976298823284\n",
            "Epoch 49/100\n",
            "450/450 [==============================] - 9s 20ms/step\n",
            "Wrong predictions:  10\n",
            "150/150 [==============================] - 56s 374ms/step - loss: 2.1020e-04 - accuracy: 1.0000 - val_loss: 0.0678 - val_accuracy: 0.9952\n",
            "New learning rate:  0.00025785268976953206\n",
            "Epoch 50/100\n",
            "450/450 [==============================] - 9s 19ms/step\n",
            "Wrong predictions:  10\n",
            "150/150 [==============================] - 56s 373ms/step - loss: 7.9497e-04 - accuracy: 0.9998 - val_loss: 0.0632 - val_accuracy: 0.9952\n",
            "New learning rate:  0.00025\n",
            "Epoch 51/100\n",
            "450/450 [==============================] - 9s 20ms/step\n",
            "Wrong predictions:  10\n",
            "150/150 [==============================] - 56s 373ms/step - loss: 0.0014 - accuracy: 0.9996 - val_loss: 0.0635 - val_accuracy: 0.9952\n",
            "New learning rate:  0.00024214731023046793\n",
            "Epoch 52/100\n",
            "450/450 [==============================] - 9s 20ms/step\n",
            "Wrong predictions:  12\n",
            "150/150 [==============================] - 58s 384ms/step - loss: 3.2613e-04 - accuracy: 1.0000 - val_loss: 0.1224 - val_accuracy: 0.9869\n",
            "New learning rate:  0.00023430237011767165\n",
            "Epoch 53/100\n",
            "450/450 [==============================] - 9s 20ms/step\n",
            "Wrong predictions:  12\n",
            "150/150 [==============================] - 56s 376ms/step - loss: 7.0632e-04 - accuracy: 0.9998 - val_loss: 0.1103 - val_accuracy: 0.9881\n",
            "New learning rate:  0.00022647292167037142\n",
            "Epoch 54/100\n",
            "450/450 [==============================] - 9s 20ms/step\n",
            "Wrong predictions:  12\n",
            "150/150 [==============================] - 56s 375ms/step - loss: 0.0013 - accuracy: 0.9996 - val_loss: 0.1009 - val_accuracy: 0.9893\n",
            "New learning rate:  0.00021866669160892398\n",
            "Epoch 55/100\n",
            "450/450 [==============================] - 9s 20ms/step\n",
            "Wrong predictions:  11\n",
            "150/150 [==============================] - 56s 373ms/step - loss: 2.5967e-04 - accuracy: 1.0000 - val_loss: 0.0886 - val_accuracy: 0.9917\n",
            "New learning rate:  0.0002108913837399423\n",
            "Epoch 56/100\n",
            "450/450 [==============================] - 9s 20ms/step\n",
            "Wrong predictions:  11\n",
            "150/150 [==============================] - 56s 373ms/step - loss: 0.0013 - accuracy: 0.9996 - val_loss: 0.0847 - val_accuracy: 0.9905\n",
            "New learning rate:  0.00020315467135356886\n",
            "Epoch 57/100\n",
            "450/450 [==============================] - 9s 20ms/step\n",
            "Wrong predictions:  19\n",
            "150/150 [==============================] - 56s 373ms/step - loss: 0.0233 - accuracy: 0.9937 - val_loss: 0.0923 - val_accuracy: 0.9786\n",
            "New learning rate:  0.00019546418965086444\n",
            "Epoch 58/100\n",
            "450/450 [==============================] - 9s 19ms/step\n",
            "Wrong predictions:  42\n",
            "150/150 [==============================] - 56s 372ms/step - loss: 0.0337 - accuracy: 0.9908 - val_loss: 1.9368 - val_accuracy: 0.6413\n",
            "New learning rate:  0.00018782752820878628\n",
            "Epoch 59/100\n",
            "450/450 [==============================] - 9s 19ms/step\n",
            "Wrong predictions:  17\n",
            "150/150 [==============================] - 56s 371ms/step - loss: 0.0159 - accuracy: 0.9946 - val_loss: 0.2942 - val_accuracy: 0.9537\n",
            "New learning rate:  0.0001802522234901927\n",
            "Epoch 60/100\n",
            "450/450 [==============================] - 9s 19ms/step\n",
            "Wrong predictions:  15\n",
            "150/150 [==============================] - 56s 373ms/step - loss: 0.0031 - accuracy: 0.9990 - val_loss: 0.2134 - val_accuracy: 0.9656\n",
            "New learning rate:  0.00017274575140626322\n",
            "Epoch 61/100\n",
            "450/450 [==============================] - 9s 20ms/step\n",
            "Wrong predictions:  19\n",
            "150/150 [==============================] - 56s 373ms/step - loss: 0.0072 - accuracy: 0.9983 - val_loss: 0.4954 - val_accuracy: 0.9371\n",
            "New learning rate:  0.00016531551993867715\n",
            "Epoch 62/100\n",
            "450/450 [==============================] - 9s 19ms/step\n",
            "Wrong predictions:  55\n",
            "150/150 [==============================] - 56s 371ms/step - loss: 0.0205 - accuracy: 0.9960 - val_loss: 3.2831 - val_accuracy: 0.6568\n",
            "New learning rate:  0.00015796886182883058\n",
            "Epoch 63/100\n",
            "450/450 [==============================] - 9s 19ms/step\n",
            "Wrong predictions:  13\n",
            "150/150 [==============================] - 56s 372ms/step - loss: 0.0058 - accuracy: 0.9979 - val_loss: 0.0952 - val_accuracy: 0.9857\n",
            "New learning rate:  0.00015071302734130483\n",
            "Epoch 64/100\n",
            "450/450 [==============================] - 9s 19ms/step\n",
            "Wrong predictions:  30\n",
            "150/150 [==============================] - 56s 370ms/step - loss: 0.0044 - accuracy: 0.9992 - val_loss: 0.4828 - val_accuracy: 0.9394\n",
            "New learning rate:  0.00014355517710873183\n",
            "Epoch 65/100\n",
            "450/450 [==============================] - 9s 20ms/step\n",
            "Wrong predictions:  67\n",
            "150/150 [==============================] - 56s 373ms/step - loss: 0.0048 - accuracy: 0.9983 - val_loss: 0.5374 - val_accuracy: 0.9264\n",
            "New learning rate:  0.00013650237506511331\n",
            "Epoch 66/100\n",
            "450/450 [==============================] - 9s 19ms/step\n",
            "Wrong predictions:  10\n",
            "150/150 [==============================] - 56s 371ms/step - loss: 0.0016 - accuracy: 0.9996 - val_loss: 0.2040 - val_accuracy: 0.9739\n",
            "New learning rate:  0.00012956158147457115\n",
            "Epoch 67/100\n",
            "450/450 [==============================] - 9s 20ms/step\n",
            "Wrong predictions:  9\n",
            "Saved model to disk\n",
            "150/150 [==============================] - 58s 386ms/step - loss: 6.0734e-04 - accuracy: 1.0000 - val_loss: 0.2956 - val_accuracy: 0.9691\n",
            "New learning rate:  0.00012273964606240718\n",
            "Epoch 68/100\n",
            "450/450 [==============================] - 9s 20ms/step\n",
            "Wrong predictions:  9\n",
            "Saved model to disk\n",
            "150/150 [==============================] - 58s 386ms/step - loss: 0.0012 - accuracy: 0.9996 - val_loss: 0.2685 - val_accuracy: 0.9691\n",
            "New learning rate:  0.00011604330125525078\n",
            "Epoch 69/100\n",
            "450/450 [==============================] - 9s 20ms/step\n",
            "Wrong predictions:  9\n",
            "Saved model to disk\n",
            "150/150 [==============================] - 58s 386ms/step - loss: 2.8651e-04 - accuracy: 1.0000 - val_loss: 0.2371 - val_accuracy: 0.9739\n",
            "New learning rate:  0.00010947915553696733\n",
            "Epoch 70/100\n",
            "450/450 [==============================] - 9s 20ms/step\n",
            "Wrong predictions:  17\n",
            "150/150 [==============================] - 56s 374ms/step - loss: 0.0013 - accuracy: 0.9996 - val_loss: 0.2179 - val_accuracy: 0.9751\n",
            "New learning rate:  0.00010305368692688174\n",
            "Epoch 71/100\n",
            "450/450 [==============================] - 9s 20ms/step\n",
            "Wrong predictions:  49\n",
            "150/150 [==============================] - 56s 376ms/step - loss: 0.0042 - accuracy: 0.9994 - val_loss: 0.2020 - val_accuracy: 0.9739\n",
            "New learning rate:  9.677323658675586e-05\n",
            "Epoch 72/100\n",
            "450/450 [==============================] - 9s 20ms/step\n",
            "Wrong predictions:  37\n",
            "150/150 [==============================] - 56s 375ms/step - loss: 6.0532e-04 - accuracy: 0.9998 - val_loss: 0.1301 - val_accuracy: 0.9834\n",
            "New learning rate:  9.064400256282756e-05\n",
            "Epoch 73/100\n",
            "450/450 [==============================] - 9s 20ms/step\n",
            "Wrong predictions:  35\n",
            "150/150 [==============================] - 56s 376ms/step - loss: 8.4809e-04 - accuracy: 0.9998 - val_loss: 0.1249 - val_accuracy: 0.9846\n",
            "New learning rate:  8.467203366908707e-05\n",
            "Epoch 74/100\n",
            "450/450 [==============================] - 9s 20ms/step\n",
            "Wrong predictions:  32\n",
            "150/150 [==============================] - 56s 375ms/step - loss: 7.6910e-04 - accuracy: 0.9998 - val_loss: 0.1254 - val_accuracy: 0.9846\n",
            "New learning rate:  7.886322351782782e-05\n",
            "Epoch 75/100\n",
            "450/450 [==============================] - 9s 20ms/step\n",
            "Wrong predictions:  27\n",
            "150/150 [==============================] - 56s 374ms/step - loss: 8.1546e-04 - accuracy: 0.9998 - val_loss: 0.1226 - val_accuracy: 0.9846\n",
            "New learning rate:  7.322330470336314e-05\n",
            "Epoch 76/100\n",
            "450/450 [==============================] - 9s 20ms/step\n",
            "Wrong predictions:  19\n",
            "150/150 [==============================] - 57s 378ms/step - loss: 7.8959e-04 - accuracy: 0.9998 - val_loss: 0.1278 - val_accuracy: 0.9846\n",
            "New learning rate:  6.775784314464717e-05\n",
            "Epoch 77/100\n",
            "450/450 [==============================] - 9s 20ms/step\n",
            "Wrong predictions:  18\n",
            "150/150 [==============================] - 57s 380ms/step - loss: 8.0296e-04 - accuracy: 0.9998 - val_loss: 0.1239 - val_accuracy: 0.9846\n",
            "New learning rate:  6.24722325923851e-05\n",
            "Epoch 78/100\n",
            "450/450 [==============================] - 9s 20ms/step\n",
            "Wrong predictions:  17\n",
            "150/150 [==============================] - 56s 375ms/step - loss: 0.0011 - accuracy: 0.9996 - val_loss: 0.1235 - val_accuracy: 0.9846\n",
            "New learning rate:  5.737168930605272e-05\n",
            "Epoch 79/100\n",
            "450/450 [==============================] - 9s 20ms/step\n",
            "Wrong predictions:  15\n",
            "150/150 [==============================] - 57s 378ms/step - loss: 6.5848e-04 - accuracy: 0.9998 - val_loss: 0.1194 - val_accuracy: 0.9857\n",
            "New learning rate:  5.2461246906077396e-05\n",
            "Epoch 80/100\n",
            "450/450 [==============================] - 9s 20ms/step\n",
            "Wrong predictions:  15\n",
            "150/150 [==============================] - 56s 374ms/step - loss: 2.9229e-04 - accuracy: 1.0000 - val_loss: 0.1112 - val_accuracy: 0.9857\n",
            "New learning rate:  4.7745751406263163e-05\n",
            "Epoch 81/100\n",
            "450/450 [==============================] - 9s 20ms/step\n",
            "Wrong predictions:  15\n",
            "150/150 [==============================] - 56s 376ms/step - loss: 7.2289e-04 - accuracy: 0.9998 - val_loss: 0.1068 - val_accuracy: 0.9857\n",
            "New learning rate:  4.322985643135957e-05\n",
            "Epoch 82/100\n",
            "450/450 [==============================] - 9s 20ms/step\n",
            "Wrong predictions:  15\n",
            "150/150 [==============================] - 56s 377ms/step - loss: 6.1996e-04 - accuracy: 0.9998 - val_loss: 0.1048 - val_accuracy: 0.9869\n",
            "New learning rate:  3.891801862449629e-05\n",
            "Epoch 83/100\n",
            "450/450 [==============================] - 9s 21ms/step\n",
            "Wrong predictions:  60\n",
            "150/150 [==============================] - 57s 380ms/step - loss: 0.0044 - accuracy: 0.9992 - val_loss: 0.0360 - val_accuracy: 0.9941\n",
            "New learning rate:  3.4814493249014064e-05\n",
            "Epoch 84/100\n",
            "450/450 [==============================] - 9s 20ms/step\n",
            "Wrong predictions:  49\n",
            "150/150 [==============================] - 56s 375ms/step - loss: 2.7626e-04 - accuracy: 1.0000 - val_loss: 0.0397 - val_accuracy: 0.9941\n",
            "New learning rate:  3.0923329989034106e-05\n",
            "Epoch 85/100\n",
            "450/450 [==============================] - 9s 20ms/step\n",
            "Wrong predictions:  47\n",
            "150/150 [==============================] - 56s 374ms/step - loss: 7.1929e-04 - accuracy: 0.9998 - val_loss: 0.0426 - val_accuracy: 0.9929\n",
            "New learning rate:  2.7248368952908055e-05\n",
            "Epoch 86/100\n",
            "450/450 [==============================] - 9s 20ms/step\n",
            "Wrong predictions:  44\n",
            "150/150 [==============================] - 56s 374ms/step - loss: 7.3232e-04 - accuracy: 0.9998 - val_loss: 0.0447 - val_accuracy: 0.9929\n",
            "New learning rate:  2.379323688349516e-05\n",
            "Epoch 87/100\n",
            "450/450 [==============================] - 9s 20ms/step\n",
            "Wrong predictions:  42\n",
            "150/150 [==============================] - 56s 376ms/step - loss: 7.5644e-04 - accuracy: 0.9998 - val_loss: 0.0466 - val_accuracy: 0.9941\n",
            "New learning rate:  2.056134357900477e-05\n",
            "Epoch 88/100\n",
            "450/450 [==============================] - 9s 20ms/step\n",
            "Wrong predictions:  34\n",
            "150/150 [==============================] - 56s 376ms/step - loss: 8.4639e-04 - accuracy: 0.9996 - val_loss: 0.0514 - val_accuracy: 0.9917\n",
            "New learning rate:  1.7555878527937163e-05\n",
            "Epoch 89/100\n",
            "450/450 [==============================] - 9s 20ms/step\n",
            "Wrong predictions:  33\n",
            "150/150 [==============================] - 57s 377ms/step - loss: 7.4451e-04 - accuracy: 0.9998 - val_loss: 0.0557 - val_accuracy: 0.9917\n",
            "New learning rate:  1.4779807761443637e-05\n",
            "Epoch 90/100\n",
            "450/450 [==============================] - 9s 20ms/step\n",
            "Wrong predictions:  33\n",
            "150/150 [==============================] - 57s 377ms/step - loss: 6.4420e-04 - accuracy: 0.9998 - val_loss: 0.0579 - val_accuracy: 0.9917\n",
            "New learning rate:  1.2235870926211617e-05\n",
            "Epoch 91/100\n",
            "450/450 [==============================] - 9s 20ms/step\n",
            "Wrong predictions:  30\n",
            "150/150 [==============================] - 56s 376ms/step - loss: 0.0011 - accuracy: 0.9996 - val_loss: 0.0600 - val_accuracy: 0.9917\n",
            "New learning rate:  9.926578580764261e-06\n",
            "Epoch 92/100\n",
            "450/450 [==============================] - 9s 20ms/step\n",
            "Wrong predictions:  26\n",
            "150/150 [==============================] - 56s 375ms/step - loss: 5.9896e-04 - accuracy: 0.9998 - val_loss: 0.0611 - val_accuracy: 0.9917\n",
            "New learning rate:  7.854209717842259e-06\n",
            "Epoch 93/100\n",
            "450/450 [==============================] - 9s 20ms/step\n",
            "Wrong predictions:  23\n",
            "150/150 [==============================] - 56s 375ms/step - loss: 7.7159e-04 - accuracy: 0.9998 - val_loss: 0.0623 - val_accuracy: 0.9917\n",
            "New learning rate:  6.020809515313169e-06\n",
            "Epoch 94/100\n",
            "450/450 [==============================] - 9s 19ms/step\n",
            "Wrong predictions:  19\n",
            "150/150 [==============================] - 56s 373ms/step - loss: 1.8813e-04 - accuracy: 1.0000 - val_loss: 0.0632 - val_accuracy: 0.9917\n",
            "New learning rate:  4.4281873178278196e-06\n",
            "Epoch 95/100\n",
            "450/450 [==============================] - 9s 20ms/step\n",
            "Wrong predictions:  17\n",
            "150/150 [==============================] - 56s 374ms/step - loss: 0.0011 - accuracy: 0.9996 - val_loss: 0.0648 - val_accuracy: 0.9917\n",
            "New learning rate:  3.077914851215585e-06\n",
            "Epoch 96/100\n",
            "450/450 [==============================] - 9s 20ms/step\n",
            "Wrong predictions:  17\n",
            "150/150 [==============================] - 56s 374ms/step - loss: 6.8054e-04 - accuracy: 0.9998 - val_loss: 0.0661 - val_accuracy: 0.9917\n",
            "New learning rate:  1.9713246713805587e-06\n",
            "Epoch 97/100\n",
            "450/450 [==============================] - 9s 20ms/step\n",
            "Wrong predictions:  15\n",
            "150/150 [==============================] - 56s 375ms/step - loss: 1.6922e-04 - accuracy: 1.0000 - val_loss: 0.0670 - val_accuracy: 0.9917\n",
            "New learning rate:  1.109508849230001e-06\n",
            "Epoch 98/100\n",
            "450/450 [==============================] - 9s 20ms/step\n",
            "Wrong predictions:  14\n",
            "150/150 [==============================] - 57s 378ms/step - loss: 6.7780e-04 - accuracy: 0.9998 - val_loss: 0.0679 - val_accuracy: 0.9917\n",
            "New learning rate:  4.933178929321103e-07\n",
            "Epoch 99/100\n",
            "450/450 [==============================] - 9s 19ms/step\n",
            "Wrong predictions:  13\n",
            "150/150 [==============================] - 56s 372ms/step - loss: 7.1240e-04 - accuracy: 0.9998 - val_loss: 0.0688 - val_accuracy: 0.9917\n",
            "New learning rate:  1.233599085671e-07\n",
            "Epoch 100/100\n",
            "450/450 [==============================] - 9s 20ms/step\n",
            "Wrong predictions:  13\n",
            "150/150 [==============================] - 56s 374ms/step - loss: 7.3255e-04 - accuracy: 0.9998 - val_loss: 0.0699 - val_accuracy: 0.9917\n"
          ],
          "name": "stdout"
        }
      ]
    },
    {
      "cell_type": "code",
      "metadata": {
        "id": "uVo7uxC2mtZ4"
      },
      "source": [
        "model.fit(x=train_dataset,\n",
        "          epochs=500, \n",
        "          steps_per_epoch=len(train_gen),\n",
        "          validation_data=valid_dataset,\n",
        "          validation_steps=len(valid_gen), \n",
        "          callbacks=callbacks)"
      ],
      "execution_count": null,
      "outputs": []
    },
    {
      "cell_type": "code",
      "metadata": {
        "id": "vA_y-YFEocBt"
      },
      "source": [
        "model.fit(x=train_dataset,\n",
        "          epochs=500, \n",
        "          steps_per_epoch=len(train_gen),\n",
        "          validation_data=valid_dataset,\n",
        "          validation_steps=len(valid_gen), \n",
        "          callbacks=callbacks)\n"
      ],
      "execution_count": null,
      "outputs": []
    },
    {
      "cell_type": "code",
      "metadata": {
        "id": "r_p5ajUn_rDa",
        "colab": {
          "base_uri": "https://localhost:8080/"
        },
        "outputId": "e71b8926-5b96-4136-b5f4-197d7856ac6d"
      },
      "source": [
        "# serialize model to JSON\n",
        "model_json = model.to_json()\n",
        "with open(\"/content/drive/MyDrive/models/model_v15.json\", \"w\") as json_file:\n",
        "  json_file.write(model_json)\n",
        "# serialize weights to HDF5\n",
        "model.save_weights(\"/content/drive/MyDrive/models/model_v15.h5\")\n",
        "print(\"Saved model to disk\")"
      ],
      "execution_count": null,
      "outputs": [
        {
          "output_type": "stream",
          "text": [
            "Saved model to disk\n"
          ],
          "name": "stdout"
        }
      ]
    },
    {
      "cell_type": "code",
      "metadata": {
        "id": "Wof8uQZi4nEb"
      },
      "source": [
        "# For testing => display some imeges\n",
        "i = 0\n",
        "l = 10*0\n",
        "for el in imgs:\n",
        "  img = PIL.Image.fromarray((el * 255).astype(np.uint8))\n",
        "  if i >= l and i <= l + 5:\n",
        "    display(img)\n",
        "  i += 1\n",
        "  if(i >= l + 60):\n",
        "    break"
      ],
      "execution_count": null,
      "outputs": []
    },
    {
      "cell_type": "code",
      "metadata": {
        "id": "o-40mmLY0Ot3",
        "colab": {
          "base_uri": "https://localhost:8080/"
        },
        "outputId": "10e19273-2082-4603-eff2-ba77aa8f47d5"
      },
      "source": [
        "# model.load_weights('/path/to/checkpoint')  # use this if you want to restore saved model\n",
        "\n",
        "predict = model.predict(x=imgs,\n",
        "                          steps=len(test_gen),\n",
        "                          verbose=1)\n"
      ],
      "execution_count": null,
      "outputs": [
        {
          "output_type": "stream",
          "text": [
            "WARNING:tensorflow:Model was constructed with shape (None, 224, 224, 3) for input Tensor(\"NASNet_input_3:0\", shape=(None, 224, 224, 3), dtype=float32), but it was called on an input with incompatible shape (1, 225, 225, 3).\n",
            "WARNING:tensorflow:Model was constructed with shape (None, 224, 224, 3) for input Tensor(\"input_4:0\", shape=(None, 224, 224, 3), dtype=float32), but it was called on an input with incompatible shape (1, 225, 225, 3).\n",
            "450/450 [==============================] - 7s 16ms/step\n"
          ],
          "name": "stdout"
        }
      ]
    }
  ]
}